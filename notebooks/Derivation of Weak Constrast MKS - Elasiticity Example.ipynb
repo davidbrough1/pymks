{
 "metadata": {
  "name": ""
 },
 "nbformat": 3,
 "nbformat_minor": 0,
 "worksheets": [
  {
   "cells": [
    {
     "cell_type": "markdown",
     "metadata": {},
     "source": [
      "#Derivation of Weak Contrast MKS with Elasticity Example\n",
      "\n",
      "The goal of this notebook is to derivate the weak contrast MKS equation for elasticity in terms of the polarization field to provide a reference for the strong contrast MKS equation."
     ]
    },
    {
     "cell_type": "markdown",
     "metadata": {},
     "source": [
      "### Definitions\n",
      "\n",
      "Let $C(x)$ be the local stiffness tensor for a 2 phase material with stiffness tensors $C_A$ and $C_B$. The stiffness tensor at location $x$ can be represented as a perturbation from a reference stiffness tensor.\n",
      "\n",
      "$$C(x) = C^R + C'(x)$$\n",
      "\n",
      "Let $p_{ij}(x)$ be the polarization field defined below.\n",
      "\n",
      "$$p_{ij}(x) = [C(x) - C^R]_{ijkl} \\varepsilon_{kl}(x) = C'_{ijkl}(x) \\varepsilon_{kl}(x)$$\n",
      "\n",
      "therefore\n",
      "\n",
      "$$\\sigma(x) = C(x)\\varepsilon(x) = C^R \\varepsilon(x) + p(x)$$"
     ]
    },
    {
     "cell_type": "markdown",
     "metadata": {},
     "source": [
      "### Equilibrium Condition\n",
      "\n",
      "The equilibrium condition is defined below.\n",
      "\n",
      "$$\\sigma_{ij,j}(x) = C^R_{ijkl} \\varepsilon_{kl,j}(x) + p_{ij,j}(x) = 0$$\n",
      "\n",
      "where\n",
      "\n",
      "$$p_{ij,j}(x) = C'_{ijkl,j}(x)\\varepsilon(x)_{kl} + C'_{ijkl}(x)\\varepsilon_{kl,j}(x) -C^R \\varepsilon_{kl,j}(x)$$"
     ]
    },
    {
     "cell_type": "markdown",
     "metadata": {},
     "source": [
      "###Strain, Displacement, and Green's Functions\n",
      "\n",
      "By using the relationship between strain and displacement, the equilibrium equation can be rewritten as follows.\n",
      "\n",
      "$$ \\varepsilon_{kl} = \\frac{(u_{k,l} + u_{l,k})}{2} $$\n",
      "\n",
      "$$\\sigma_{ij,j} = C^R_{ijkl} u_{k,lj}(x) + p_{ij,j} = 0$$\n",
      "\n",
      "The equilibrium equation can be solved using green's functions.\n",
      "\n",
      "$$C^R_{ijkl} G_{km,lj}(r) + \\delta_{im}\\delta(x-r) = 0$$\n",
      "\n",
      "\n",
      "$$u_k(x) = \\int_V  G_{ik}(r) p_{ij,j}(x - r)dr = \\int_V G_{ik}(r) \\big [C'_{ijkl}(x - r)\\varepsilon_{kl}(x - r) \\big ]_{,j}dr$$\n",
      "\n",
      "Note that the green's function $G(r)$ depends on the reference medium $C^R$"
     ]
    },
    {
     "cell_type": "markdown",
     "metadata": {},
     "source": [
      "### Integration by Parts\n",
      "\n",
      "We are going to force the boundary condition that $u(\\infty) = 0$, by replacing the RHS of the equation with the displacement minus the value of the displacement at infinity $u_\\infty$. \n",
      "\n",
      "$$u_k(x) =u_\\infty + \\int_V G_{ik}(r) p_{ij,j}(x - r)dr$$\n",
      "\n",
      "The equation above can be recast with derivatives on the green's function by integrating by parts.\n",
      "\n",
      "$$u_k(x) =u_\\infty - \\int_V G_{ik,j}(r) p_{ij}(x - r)dr$$"
     ]
    },
    {
     "cell_type": "markdown",
     "metadata": {},
     "source": [
      "###Principal Value Singularity\n",
      "\n",
      "In the equation above, the surface term tending to zero is a principal value integral because of the singularity in the green's function at $r = 0$. As a result, the integrand is not differentiable. Torquato shows that by excluding a sphere at the origin, using integration by parts and the divergence theorem we can arrive at the following equation [1].\n",
      "\n",
      "Let\n",
      "\n",
      "$$\\Phi_{ikjl}(r) = - G_{[ik,jl]}(r) $$\n",
      "\n",
      "$$\\varepsilon_{kl}(x) = \\varepsilon_{kl}^{\\infty} + \\int_V \\delta(r) \\Phi_{ikjl}(r) p_{ij}(x -r)dr + \\int_V (1 - \\delta(r)) \\Phi_{ikjl}(r)p_{ij}(x -r)dr $$\n",
      "\n",
      "$$\\varepsilon_{kl}(x) = \\varepsilon_{kl}^{\\infty} - E_{ikjl} p_{ij}(x) + \\int_V \\Phi_{ikjl}(r) p_{ij}(x -r)dr$$\n",
      "\n",
      "\n",
      "where \n",
      "\n",
      "$$E_{ikjl} = \\lim_{r \\rightarrow 0} \\int_S G_{ik,j}(r) n_l dS $$\n",
      "\n",
      "is the contribution from the singularity. Notice that $E_{ikjl}$ is not a function of $p_{ij}(x)$. The assumption is made that for an infinitesimal sphere the value of $p_{ij}(x)$ is a constant and can be pulled out of the integral."
     ]
    },
    {
     "cell_type": "markdown",
     "metadata": {},
     "source": [
      "###Kroner's Expansion\n",
      "\n",
      "Let $\\varepsilon(x) = \\bar{\\varepsilon} + \\varepsilon'(x)$ \n",
      "\n",
      "Let $\\Gamma(r) = \\delta(r-\\infty) + \\Phi(r)(1-\\delta(r))$\n",
      "\n",
      "$$\\varepsilon'(x) =\\int_V \\Gamma(r) C'(x-r) [ \\bar{\\varepsilon} + \\varepsilon'(x-r)]dr $$\n",
      "\n",
      "By recursively inserting $\\varepsilon'(x)$ into the LHS of the equation, we get the following series. \n",
      "\n",
      "\\begin{eqnarray}\n",
      "\\varepsilon'(x) =\\bar{\\varepsilon}\\int_V \\Gamma(r) C'(x-r) dr && +\\bar{\\varepsilon}\\int_V \\int_V \\Big[ \\Gamma(r) C'(x-r)\\Big ]\\Big [\\Gamma(r')  C'(x-r') \\Big] dr'dr \\\\ && + \\bar{\\varepsilon}\\int_V \\int_V \\int_V \\Big[ \\Gamma(r) C'(x-r)\\Big] \\Big[  \\Gamma(r')C'(x-r') \\Big] \\Big[  \\Gamma(r'')  C'(x-r'') \\Big]dr''dr'dr + ...\n",
      "\\end{eqnarray}\n",
      "\n",
      "As long as \n",
      "\n",
      "$$\\Gamma(r) C'(x) << 1$$\n",
      "\n",
      "or\n",
      "\n",
      "$$\\Big[\\varepsilon^{\\infty} +G_{[ik,jl]}(r) \\Big ]C'(x) << C^R$$\n",
      "\n",
      "the series can be truncated after a few terms and still provide resonable accuracy."
     ]
    },
    {
     "cell_type": "markdown",
     "metadata": {},
     "source": [
      "###MKS\n",
      "\n",
      "Let \n",
      "\n",
      "$$ C'(x-r) = C_h m_h(x-r)$$\n",
      "\n",
      "where the summation over h discribes all of the local states of the stiffness tensor C'(r). m_h(r) is the microstructure function and is an indicator function for each of the local states.\n",
      "\n",
      "Also let\n",
      "\n",
      "$$\\alpha_h(r) = \\bar{\\varepsilon}\\Gamma(r)C_h $$ \n",
      "$$\\alpha_{hh'}(r,r') = \\bar{\\varepsilon}\\Gamma(r)[C^R]^{-1}\\Gamma(r')C_h C_{h'} = $$\n",
      "$$ etc... $$\n",
      "\n",
      "where again h is the local state. \n",
      "\n",
      "Plugging this definitations recasts the series exapanion in the following form."
     ]
    },
    {
     "cell_type": "markdown",
     "metadata": {},
     "source": [
      "$$\\varepsilon'(x) =\\int_V \\alpha_h(r) m_h(x-r) dr +\\int_V \\int_V \\alpha_{hh'}(r,r') m_h(x-r) m_{h'}(x-r') dr'dr+ \\int_V \\int_V \\int_V \\alpha_{hh'h''}(r,r',r'')m_h(x-r) m_{h'}(x-r') m_{h''}(x-r'')dr''dr'dr + ...$$\n",
      "\n",
      "The discrete version of this equation is the MKS."
     ]
    },
    {
     "cell_type": "markdown",
     "metadata": {},
     "source": [
      "$$\\varepsilon'(x) =\\sum_{r=1}^S \\alpha_h[r] m_h[x-r] +\\sum_{r=1}^S \\sum_{r'=1}^S \\alpha_{hh'}[r,r'] m_h[x-r] m_{h'}[x-r'] + \\sum_{r=1}^S \\sum_{r'=1}^S \\sum_{r''=1}^S \\alpha_{hh'h''}[r,r',r'']m_h(x-r) m_{h'}[x-r'] m_{h''}[x-r'']+ ...$$\n"
     ]
    },
    {
     "cell_type": "markdown",
     "metadata": {},
     "source": [
      "##References\n",
      "\n",
      "[1] Torquato, S., 1997. *Effective stiffness tensor of composite media. I. Exact series expansions.* J. Mech. Phys. Solids 45, 1421\u20131448.\n",
      "\n",
      "[2] Brent L.Adams, Surya Kalidindi, David T. Fullwood. *Microstructure Sensitive Design for Performance Optimization.*\n",
      "\n",
      "[3] David T. Fullwood, Brent L.Adams, Surya Kalidindi. *A strong contrast homogenization formulation for multi-phase anisotropic materials.*  "
     ]
    }
   ],
   "metadata": {}
  }
 ]
}