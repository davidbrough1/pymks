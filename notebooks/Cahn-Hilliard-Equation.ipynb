{
 "metadata": {
  "name": "",
  "signature": "sha256:8cd4e77fa419c787a44708778be7df3af580f09cb71028d10defed6103b6e1e6"
 },
 "nbformat": 3,
 "nbformat_minor": 0,
 "worksheets": [
  {
   "cells": [
    {
     "cell_type": "markdown",
     "metadata": {},
     "source": [
      "##The Cahn-Hilliard Equation\n",
      "\n",
      "####Perturbation from Average Concentration \n",
      "\n",
      "Let's assume that we are looking at a concentration field that is represented by a function $\\phi (x,t)$ which provides the local concentration field at location $x$ and time $t$. This concentration can be set equal to a linear combination of an average concentration $\\bar{\\phi}$ and a local perturbation from that average concentration $\\phi'(x,t)$ at location $x$ and time $t$ as shown below.\n",
      "\n",
      "$$ \\phi(x,t) = \\bar{\\phi} + \\phi'(x,t) $$"
     ]
    },
    {
     "cell_type": "markdown",
     "metadata": {},
     "source": [
      "####Cahn-Hilliard Equation \n",
      "\n",
      "The Cahn-Hilliard equation has the following form. \n",
      "\n",
      "$$ \\frac{\\partial \\phi(x,t)}{\\partial t} = \\nabla \\cdot D \\nabla \\Big(\\frac{\\partial f(\\phi(x,t))}{\\partial \\phi} + \\nabla^2 \\epsilon^2 \\phi(x,t) \\Big) $$\n",
      "\n",
      "$D$ is the diffusion coefficient, $f(\\phi(x,t))$ is the free energy function, and $\\epsilon$ is the  length of interface region. $f(\\phi(x, t))$ is a double well potential and can be represented as a fourth-order polynomial.\n",
      "\n",
      "$$ f(\\phi(x,t)) = \\frac{a^2}{2}\\phi(x,t)^2(1 - \\phi(x,t)^2) $$\n",
      "\n",
      "$a$ is a free parameter used to fit the magnitude of the energy barrier. By substituting the fourth-order polynomial in for the free energy function and assuming that $D$, $\\epsilon^2$ and $a$ are constants, the Cahn-Hilliard equation takes the following form.\n",
      "\n",
      "$$ \\frac{\\partial \\phi(x,t)}{\\partial t} = D\\nabla^2 \\Big(a^2 \\big[\\phi(x,t)(1 - 2 \\phi(x, t)^2 \\big] + \\epsilon^2 \\nabla^2 \\phi(x,t) \\Big) $$"
     ]
    },
    {
     "cell_type": "markdown",
     "metadata": {},
     "source": [
      "####Reference Medium in Cahn-Hilliard Equation\n",
      "\n",
      "Let's substitute the local perturbation definition of the concentration into the Cahn-Hilliard equation, and remove all terms that equal zero.\n",
      "\n",
      "$$ \\frac{\\partial (\\bar{\\phi} + \\phi')}{\\partial t} = D\\nabla^2 \\Big(a^2 \\big[(\\bar{\\phi} + \\phi') (1 - (\\bar{\\phi} + \\phi')^2\\big] + \\epsilon^2\\nabla^2  (\\bar{\\phi} + \\phi') \\Big) $$"
     ]
    },
    {
     "cell_type": "markdown",
     "metadata": {},
     "source": [
      "$$ \\frac{\\partial  \\phi'}{\\partial t} = D\\nabla^2 \\Big(a^2 \\big[ \\phi' - 3 (\\phi' \\bar{\\phi}^2 + \\phi'^2 \\bar{\\phi}) -\\phi'^3 \\big] + \\epsilon^2\\nabla^2  (\\phi') \\Big) $$"
     ]
    },
    {
     "cell_type": "markdown",
     "metadata": {},
     "source": [
      "$$ \\frac{\\partial  \\phi'}{\\partial t} - D\\nabla^2 \\Big(a^2 \\big[ \\phi' -\\phi'^3 \\big] + \\epsilon^2\\nabla^2  (\\phi') \\Big) =  3 D a^2 \\nabla^2 (\\phi' \\bar{\\phi}^2 + \\phi'^2 \\bar{\\phi})$$"
     ]
    },
    {
     "cell_type": "markdown",
     "metadata": {},
     "source": [
      "Now let the right hand side of the equation above represent an inhomogenous term $f$ for the Cahn-Hilliard equation\n",
      "\n",
      "$$ f(x, t) = 3 D a^2 \\nabla^2 (\\phi' \\bar{\\phi}^2 + \\phi'^2 \\bar{\\phi})$$\n",
      "\n",
      "Using this definition, the Cahn-Hilliard equation can be cast in terms of a inhomogenous equation.\n",
      "\n",
      "$$ \\frac{\\partial  \\phi'}{\\partial t} - D\\nabla^2 \\Big(a^2 \\big[ \\phi' -\\phi'^3 \\big] + \\epsilon^2\\nabla^2  (\\phi') \\Big) =  f(x, t)$$"
     ]
    },
    {
     "cell_type": "markdown",
     "metadata": {},
     "source": [
      "####Green's Functions\n",
      "\n",
      "A green's function is a powerful method to solve linear inhomogenous differential equation. A green's function is mathematically define as function that when operated on with a linear operator, equals a delta function. Below is an example using the Cahn-Hillarid \"operator\".\n",
      "\n",
      "$$ \\frac{\\partial  G(x-x',t-t')}{\\partial t} = D\\nabla^2 \\Big(a^2 \\big[ G(x-x',t-t') -G(x-x',t-t')^3 \\big] + \\epsilon^2\\nabla^2  (\\phi') \\Big) =  \\delta(x-x')\\delta(t-t')$$\n",
      "\n",
      "The convolution of a green's function with an inhomogenous term gives the solution to the differential equation. \n",
      "\n",
      "$$ \\phi' =  \\int_0^t \\int_V G(x - x',t - t') f(x',t') dx' dt' $$\n",
      "\n",
      "If the initial conditions are inhomogenous, an additional term can be added to provide that information.\n",
      "\n",
      "$$ \\phi' =  \\int_V G(x - x',t) \\phi(x', 0) dx' + \\int_0^t \\int_V G(x - x',t - t') f(x',t') dx' dt' $$"
     ]
    },
    {
     "cell_type": "markdown",
     "metadata": {},
     "source": [
      "####Integeration by Parts\n",
      "\n",
      "The solution to the equation above can be found in terms of a green's function. The general solution for the concentration $\\phi(x,t)$ has the following form.\n",
      "\n",
      "$$ \\phi'(x, t) =  \\int_V G(x - x',t) \\phi(x', 0) dx' + \\int_0^t \\int_V G(x - x',t - t') f(x',t') dx' dt' $$\n",
      "\n",
      "$$ \\phi'(x, t) =  \\int_V G(x - x',t) \\phi(x', 0) dx' +  \\int_0^t \\int_V G(x - x',t - t')3 D a^2 \\nabla^2 (\\phi'(x',t') \\bar{\\phi}^2 + \\phi'(x',t')^2 \\bar{\\phi}) dx' dt' $$\n",
      "\n",
      "The $\\nabla^2$ operator can be moved from the terms containing $\\phi$ to the green's function by using integration by parts and assuming periodic boundary conditions.\n",
      "\n",
      "$$ \\phi'(x, t) =  \\int_V G(x - x',t) \\phi(x', 0) dx' +  \\int_0^t \\int_V \\nabla_x^2 G(x - x',t - t') 3 D a^2 (\\phi'(x',t') \\bar{\\phi}^2 + \\phi'(x',t')^2 \\bar{\\phi}) dx' dt' $$\n"
     ]
    },
    {
     "cell_type": "markdown",
     "metadata": {},
     "source": [
      "####Kroner's Expansion\n",
      "\n",
      "By take the definition of $\\phi'$ and substituing it back into the right side for it self, we can create a series expansion. Let's first collect terms by powers of $\\phi'$."
     ]
    },
    {
     "cell_type": "markdown",
     "metadata": {},
     "source": [
      "$$ \\phi'(x, t) =  \\int_V G(x - x',t) \\phi(x', 0) dx' +  \\int_0^t \\int_V \\nabla_x^2 G(x - x',t - t') 3 D a^2 \\bar{\\phi}^2 \\phi'(x',t') dx' dt' + \\int_0^t \\int_V \\nabla_x^2 G(x - x',t - t') 3 D a^2 \\bar{\\phi} \\phi'(x', t')^2  dx' dt' $$"
     ]
    },
    {
     "cell_type": "markdown",
     "metadata": {},
     "source": [
      "In order to reduce the clutter during the substitutions, let's make the following create the following definitions. \n",
      "\n",
      "$$A(x -x',t) = G(x - x',t)$$\n",
      "$$B(x -x',t - t') = \\nabla_x^2 G(x - x',t - t') 3 D a^2 \\bar{\\phi}^2$$\n",
      "$$C(x -x',t - t') = \\nabla_x^2 G(x - x',t - t') 3 D a^2 \\bar{\\phi}$$"
     ]
    },
    {
     "cell_type": "markdown",
     "metadata": {},
     "source": [
      "$$ \\phi'(x, t) =  \\int_V A(x - x',t) \\phi(x', 0) dx' +  \\int_0^t \\int_V B(x-x',t-t') \\phi'(x',t') dx' dt' + \\int_0^t \\int_V C(x-x',t-t') \\phi'(x', t')^2 dx' dt' $$"
     ]
    },
    {
     "cell_type": "markdown",
     "metadata": {},
     "source": [
      "\\begin{eqnarray}  \\phi'(x, t) =  && \\int_V A(x - x',t) \\phi(x', 0) dx' + \\\\&& \\int_0^t \\int_V B(x-x',t-t') \\Bigg[\\int_V A(x' - x'',t) \\phi(x'', 0) dx'' +  \\int_0^t \\int_V B(x'-x'',t'-t'') \\phi'(x'',t'') dx'' dt'' + \\int_0^t \\int_V C(x'-x'',t'-t'') \\phi'(x'', t'')^2  dx'' dt'' \\Bigg] dx' dt'+ \\\\&&  \\int_0^t \\int_V C(x-x',t-t') \\Bigg[\\int_V A(x' - x'',t) \\phi(x'', 0) dx'' +  \\int_0^t \\int_V B(x'-x'',t'-t'') \\phi'(x'',t'') dx'' dt'' + \\int_0^t \\int_V C(x'-x'',t'-t'') \\phi'(x'', t'')^2  dx'' dt'' \\Bigg]^2  dx' dt' \\end{eqnarray}\n",
      "\n"
     ]
    },
    {
     "cell_type": "markdown",
     "metadata": {},
     "source": [
      "\\begin{eqnarray}  \\phi'(x, t) = && \\int_V A(x - x',t) \\phi(x', 0) dx' +  \\int_0^t \\int_V \\int_V B(x-x',t-t')  A(x' - x'',t) \\phi(x'', 0) dx'' dx' dt'+ \\\\&& \\int_0^t \\int_V \\int_V \\int_VC(x-x',t-t')  A(x' - x'',t) A(x' - x''',t) \\phi(x'', 0) \\phi(x''', 0) dx''' dx'' dx' dt' + ...\\end{eqnarray}\n"
     ]
    },
    {
     "cell_type": "markdown",
     "metadata": {},
     "source": [
      "Now replacing $A$, $B$ and $C$ with their original definitions get the series expansion.\n",
      "\n",
      "\\begin{eqnarray}  \\phi'(x, t) = && \\int_V G(x - x',t) \\phi(x', 0) dx' +  \\int_0^t \\int_V \\int_V \\nabla_x^2 G(x - x',t - t') 3 D a^2 \\bar{\\phi}^2  G(x' - x'',t) \\phi(x'', 0) dx'' dx' dt'+ \\\\&& \\int_0^t \\int_V \\int_V \\int_V \\nabla_x^2 G(x - x',t - t') 3 D a^2 \\bar{\\phi}  G(x' - x'',t) G(x' - x''',t) \\phi(x'', 0) \\phi(x''', 0) dx''' dx'' dx' dt' + ...\\end{eqnarray}"
     ]
    },
    {
     "cell_type": "markdown",
     "metadata": {},
     "source": [
      "####Convergence Criterion\n",
      "\n",
      "In order for this series to rapidly convert as least the following criterion must be met.  \n",
      "\n",
      "$$\\int_V G(x - x',t) \\phi(x', 0) dx' < 1 $$"
     ]
    }
   ],
   "metadata": {}
  }
 ]
}