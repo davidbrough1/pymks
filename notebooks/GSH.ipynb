{
 "metadata": {
  "name": "",
  "signature": "sha256:3a63fd50e30b59192685869ed8813a451aa5943b57bf8a9b9d945526ebe69fe4"
 },
 "nbformat": 3,
 "nbformat_minor": 0,
 "worksheets": [
  {
   "cells": [
    {
     "cell_type": "code",
     "collapsed": false,
     "input": [
      "%matplotlib inline\n",
      "%load_ext autoreload\n",
      "%autoreload 2\n",
      "\n",
      "import numpy as np\n",
      "import matplotlib.pyplot as plt\n",
      "import sympy as sy\n",
      "import math"
     ],
     "language": "python",
     "metadata": {},
     "outputs": [],
     "prompt_number": 1
    },
    {
     "cell_type": "markdown",
     "metadata": {},
     "source": [
      "#Bunge-Euler Legendre Polynomials"
     ]
    },
    {
     "cell_type": "code",
     "collapsed": false,
     "input": [
      "phi1, Phi, phi2, m, n, l = sy.Symbol('phi1'), sy.Symbol('Phi'), sy.Symbol('phi2'), sy.Symbol('m'), sy.Symbol('n'), sy.Symbol('l')"
     ],
     "language": "python",
     "metadata": {},
     "outputs": [],
     "prompt_number": 2
    },
    {
     "cell_type": "code",
     "collapsed": false,
     "input": [
      "def legendre(l, m, n, Phi):\n",
      "    norm1 = (((-1) ** (l - m) * np.complex(0, 1) ** (n - m)) / ((2. ** l) * math.factorial(l - m)))\n",
      "    norm2 = math.sqrt(float(math.factorial(l - m) * sy.factorial(l + n)) / float(math.factorial(l + m) * math.factorial(l - n)))\n",
      "    poly1 = (1 - sy.cos(Phi)) ** (-(n - m) / 2.) * (1 + sy.cos(Phi)) ** (-(n + m) / 2.)\n",
      "    poly2 = sy.diff((1 - sy.cos(Phi)) ** (l-m) * (1 + sy.cos(Phi)) ** (l + m), sy.cos(Phi), (l - n))\n",
      "    return norm1 * norm2 * poly1 * poly2"
     ],
     "language": "python",
     "metadata": {},
     "outputs": [],
     "prompt_number": 3
    },
    {
     "cell_type": "markdown",
     "metadata": {},
     "source": [
      "# GSH Functions"
     ]
    },
    {
     "cell_type": "code",
     "collapsed": false,
     "input": [
      "def GSH(l, m, n, ph1, Phi, ph2):\n",
      "    lg = legendre(l, m, n, Phi)\n",
      "    return sy.exp(np.complex(0, 1) * m * phi1) * lg * sy.exp(np.complex(0, 1) * n * phi2)"
     ],
     "language": "python",
     "metadata": {},
     "outputs": [],
     "prompt_number": 4
    },
    {
     "cell_type": "markdown",
     "metadata": {},
     "source": [
      "#Cubic Symmetries"
     ]
    },
    {
     "cell_type": "code",
     "collapsed": false,
     "input": [
      "cubic_sym = np.zeros((3, 3, 24))\n",
      "\n",
      "\n",
      "# cubic_sym[:,:,0] = [[ 1, 0, 0], [ 0, 0, 1], [ 0,-1, 0]]\n",
      "# cubic_sym[:,:,0] =[[ 0,-1, 0], [ 1, 0, 0], [ 0, 0, 1]] \n",
      "# cubic_sym[:,:,1] = [[ 1, 0, 0], [ 0, 0, 1], [ 0,-1, 0]]\n",
      "# cubic_sym[:,:,2] = [[ 1, 0, 0], [ 0, 1, 0], [ 0, 0, 1]] \n",
      "# cubic_sym[:,:,3] = [[ 1, 0, 0], [ 0, 0,-1], [ 0, 1, 0]]\n",
      "# cubic_sym[:,:,4] = [[ 1, 0, 0], [ 0,-1, 0], [ 0, 0,-1]]\n",
      "\n",
      "cubic_sym[:,:,0] = [[ 1, 0, 0], [ 0, 1, 0], [ 0, 0, 1]] \n",
      "cubic_sym[:,:,1] = [[ 1, 0, 0], [ 0,-1, 0], [ 0, 0,-1]] \n",
      "cubic_sym[:,:,2] = [[ 1, 0, 0], [ 0, 0,-1], [ 0, 1, 0]] \n",
      "cubic_sym[:,:,3] = [[ 1, 0, 0], [ 0, 0, 1], [ 0,-1, 0]]\n",
      "cubic_sym[:,:,4] = [[-1, 0, 0], [ 0, 1, 0], [ 0, 0,-1]] \n",
      "cubic_sym[:,:,5] = [[-1, 0, 0], [ 0,-1, 0], [ 0, 0, 1]]\n",
      "cubic_sym[:,:,6] = [[-1, 0, 0], [ 0, 0,-1], [ 0,-1, 0]] \n",
      "cubic_sym[:,:,7] = [[-1, 0, 0], [ 0, 0, 1], [ 0, 1, 0]]\n",
      "cubic_sym[:,:,8] = [[ 0, 1, 0], [-1, 0, 0], [ 0, 0, 1]]\n",
      "cubic_sym[:,:,9] = [[ 0, 1, 0], [ 0, 0,-1], [-1, 0, 0]] \n",
      "cubic_sym[:,:,10] =[[ 0, 1, 0], [ 1, 0, 0], [ 0, 0,-1]] \n",
      "cubic_sym[:,:,11] =[[ 0, 1, 0], [ 0, 0, 1], [ 1, 0, 0]]\n",
      "cubic_sym[:,:,12] =[[ 0,-1, 0], [ 1, 0, 0], [ 0, 0, 1]] \n",
      "cubic_sym[:,:,13] =[[ 0,-1, 0], [ 0, 0,-1], [ 1, 0, 0]] \n",
      "cubic_sym[:,:,14] =[[ 0,-1, 0], [-1, 0, 0], [ 0, 0,-1]]\n",
      "cubic_sym[:,:,15] =[[ 0,-1, 0], [ 0, 0, 1], [-1, 0, 0]]\n",
      "cubic_sym[:,:,16] =[[ 0, 0, 1], [ 0, 1, 0], [-1, 0, 0]] \n",
      "cubic_sym[:,:,17] =[[ 0, 0, 1], [ 1, 0, 0], [ 0, 1, 0]] \n",
      "cubic_sym[:,:,18] =[[ 0, 0, 1], [ 0,-1, 0], [ 1, 0, 0]] \n",
      "cubic_sym[:,:,19] =[[ 0, 0, 1], [-1, 0, 0], [ 0,-1, 0]]\n",
      "cubic_sym[:,:,20] =[[ 0, 0,-1], [ 0, 1, 0], [ 1, 0, 0]] \n",
      "cubic_sym[:,:,21] =[[ 0, 0,-1], [-1, 0, 0], [ 0, 1, 0]]\n",
      "cubic_sym[:,:,22] =[[ 0, 0,-1], [ 0,-1, 0], [-1, 0, 0]] \n",
      "cubic_sym[:,:,23] =[[ 0, 0,-1], [ 1, 0, 0], [ 0,-1, 0]]\n"
     ],
     "language": "python",
     "metadata": {},
     "outputs": [],
     "prompt_number": 5
    },
    {
     "cell_type": "markdown",
     "metadata": {},
     "source": [
      "# Hexagonal Symmetries"
     ]
    },
    {
     "cell_type": "code",
     "collapsed": false,
     "input": [
      "a = np.sqrt(3) / 2\n",
      "# a = sy.Symbol('a')\n",
      "hcp_sym = np.zeros((3, 3, 12))\n",
      "hcp_sym[..., 0] = [[ 1, 0, 0], [ 0, 1, 0], [ 0, 0, 1]]\n",
      "hcp_sym[..., 1] = [[-.5, a, 0], [-a,-.5, 0], [ 0, 0, 1]]\n",
      "hcp_sym[..., 2] = [[-.5,-a, 0], [ a,-.5, 0], [ 0, 0, 1]]\n",
      "hcp_sym[..., 3] = [[.5, a, 0], [-a,.5, 0], [ 0, 0, 1]]\n",
      "hcp_sym[..., 4] = [[.5,-a, 0], [a, .5, 0], [ 0, 0, 1]]\n",
      "hcp_sym[..., 5] = [[-1, 0, 0], [ 0,-1, 0], [ 0, 0, 1]]\n",
      "hcp_sym[..., 6] = [[-.5,-a, 0], [-a, .5, 0], [ 0, 0,-1]]\n",
      "hcp_sym[..., 7] = [[ 1, 0, 0], [ 0,-1, 0], [ 0, 0,-1]]\n",
      "hcp_sym[..., 8] = [[-.5, a, 0], [ a, .5, 0], [ 0, 0,-1]]\n",
      "hcp_sym[..., 9] = [[ .5, a, 0], [ a,-.5, 0], [ 0, 0,-1]]\n",
      "hcp_sym[..., 10] = [[-1, 0, 0], [ 0, 1, 0], [ 0, 0,-1]]\n",
      "hcp_sym[..., 11] = [[ .5,-a, 0], [-a,-.5, 0], [ 0, 0,-1]]"
     ],
     "language": "python",
     "metadata": {},
     "outputs": [],
     "prompt_number": 6
    },
    {
     "cell_type": "markdown",
     "metadata": {},
     "source": [
      "#Tetragonal Symmetries"
     ]
    },
    {
     "cell_type": "code",
     "collapsed": false,
     "input": [
      "tetrag_sym = np.zeros((3, 3, 8))\n",
      "tetrag_sym[..., 0] = [[ 1, 0, 0], [ 0, 1, 0], [ 0, 0, 1]]\n",
      "tetrag_sym[..., 1] = [[-1, 0, 0], [ 0, 1, 0], [ 0, 0,-1]]\n",
      "tetrag_sym[..., 2] = [[ 1, 0, 0], [ 0,-1, 0], [ 0, 0,-1]]\n",
      "tetrag_sym[..., 3] = [[-1, 0, 0], [ 0,-1, 0], [ 0, 0, 1]]\n",
      "tetrag_sym[..., 4] = [[ 0, 1, 0], [-1, 0, 0], [ 0, 0, 1]]\n",
      "tetrag_sym[..., 5] = [[ 0,-1, 0], [ 1, 0, 0], [ 0, 0, 1]]\n",
      "tetrag_sym[..., 6] = [[ 0, 1, 0], [ 1, 0, 0], [ 0, 0,-1]]\n",
      "tetrag_sym[..., 7] = [[ 0,-1, 0], [-1, 0, 0], [ 0, 0,-1]]"
     ],
     "language": "python",
     "metadata": {},
     "outputs": [],
     "prompt_number": 7
    },
    {
     "cell_type": "markdown",
     "metadata": {},
     "source": [
      "#Orientation Matrix for Bungee-Euler Representations"
     ]
    },
    {
     "cell_type": "code",
     "collapsed": false,
     "input": [
      "# orientation1 = sy.Matrix([[sy.cancel(sy.cos(phi2).rewrite(sy.exp)), sy.cancel(sy.sin(phi2).rewrite(sy.exp)), 0], [-sy.cancel(sy.sin(phi2).rewrite(sy.exp)), sy.cancel(sy.cos(phi2).rewrite(sy.exp)), 0], [0, 0, 1]])\n",
      "# orientation2 = sy.Matrix([ [1, 0, 0], [0, sy.cancel(sy.cos(Phi).rewrite(sy.exp)), sy.cancel(sy.sin(Phi).rewrite(sy.exp))], [0, -sy.cancel(sy.sin(Phi).rewrite(sy.exp)), sy.cancel(sy.cos(Phi).rewrite(sy.exp))]])\n",
      "# orientation3 = sy.Matrix([[sy.cancel(sy.cos(phi1).rewrite(sy.exp)), sy.cancel(sy.sin(phi1).rewrite(sy.exp)), 0], [-sy.cancel(sy.sin(phi1).rewrite(sy.exp)), sy.cancel(sy.cos(phi1).rewrite(sy.exp)), 0], [0, 0, 1]])\n",
      "\n",
      "orientation1 = sy.Matrix([[sy.cos(phi2), sy.sin(phi2), 0], [-sy.sin(phi2), sy.cos(phi2), 0], [0, 0, 1]])\n",
      "orientation2 = sy.Matrix([ [1, 0, 0], [0, sy.cos(Phi), sy.sin(Phi)], [0, -sy.sin(Phi), sy.cos(Phi)]])\n",
      "orientation3 = sy.Matrix([[sy.cos(phi1), sy.sin(phi1), 0], [-sy.sin(phi1), sy.cos(phi1), 0], [0, 0, 1]])\n",
      "\n",
      "orientaiton_matrix = (orientation1 * orientation2 * orientation3)\n",
      "\n",
      "print orientaiton_matrix"
     ],
     "language": "python",
     "metadata": {},
     "outputs": [
      {
       "output_type": "stream",
       "stream": "stdout",
       "text": [
        "Matrix([[-sin(phi1)*sin(phi2)*cos(Phi) + cos(phi1)*cos(phi2), sin(phi1)*cos(phi2) + sin(phi2)*cos(Phi)*cos(phi1), sin(Phi)*sin(phi2)], [-sin(phi1)*cos(Phi)*cos(phi2) - sin(phi2)*cos(phi1), -sin(phi1)*sin(phi2) + cos(Phi)*cos(phi1)*cos(phi2), sin(Phi)*cos(phi2)], [sin(Phi)*sin(phi1), -sin(Phi)*cos(phi1), cos(Phi)]])\n"
       ]
      }
     ],
     "prompt_number": 8
    },
    {
     "cell_type": "code",
     "collapsed": false,
     "input": [
      "a, b, c = sy.Symbol('a'), sy.Symbol('b'), sy.Symbol('c')\n",
      "\n",
      "# orientation1a = sy.Matrix([[sy.cancel(sy.cos(phi2+c).rewrite(sy.exp)), sy.cancel(sy.sin(phi2+c).rewrite(sy.exp)), 0], [-sy.cancel(sy.sin(phi2+c).rewrite(sy.exp)), sy.cancel(sy.cos(phi2+c).rewrite(sy.exp)), 0], [0, 0, 1]])\n",
      "# orientation2b = sy.Matrix([ [1, 0, 0], [0, sy.cancel(sy.cos(Phi+b).rewrite(sy.exp)), sy.cancel(sy.sin(Phi+b).rewrite(sy.exp))], [0, -sy.cancel(sy.sin(Phi+b).rewrite(sy.exp)), sy.cancel(sy.cos(Phi+b).rewrite(sy.exp))]])\n",
      "# orientation3c = sy.Matrix([[sy.cancel(sy.cos(phi1+a).rewrite(sy.exp)), sy.cancel(sy.sin(phi1+a).rewrite(sy.exp)), 0], [-sy.cancel(sy.sin(phi1+a).rewrite(sy.exp)), sy.cancel(sy.cos(phi1+a).rewrite(sy.exp)), 0], [0, 0, 1]])\n",
      "\n",
      "\n",
      "orientation1a = sy.Matrix([[sy.cos(phi2 + c), sy.sin(phi2 + c), 0], [-sy.sin(phi2 + c), sy.cos(phi2 + c), 0], [0, 0, 1]])\n",
      "orientation2b = sy.Matrix([ [1, 0, 0], [0, sy.cos(Phi + b), sy.sin(Phi + b)], [0, -sy.sin(Phi + b), sy.cos(Phi + b)]])\n",
      "orientation3c = sy.Matrix([[sy.cos(phi1 + a), sy.sin(phi1 + a), 0], [-sy.sin(phi1 + a), sy.cos(phi1 + a), 0], [0, 0, 1]])\n",
      "\n",
      "orientaiton_matrixabc = (orientation1a * orientation2b * orientation3c)\n",
      "print orientaiton_matrixabc\n"
     ],
     "language": "python",
     "metadata": {},
     "outputs": [
      {
       "output_type": "stream",
       "stream": "stdout",
       "text": [
        "Matrix([[-sin(a + phi1)*sin(c + phi2)*cos(Phi + b) + cos(a + phi1)*cos(c + phi2), sin(a + phi1)*cos(c + phi2) + sin(c + phi2)*cos(Phi + b)*cos(a + phi1), sin(Phi + b)*sin(c + phi2)], [-sin(a + phi1)*cos(Phi + b)*cos(c + phi2) - sin(c + phi2)*cos(a + phi1), -sin(a + phi1)*sin(c + phi2) + cos(Phi + b)*cos(a + phi1)*cos(c + phi2), sin(Phi + b)*cos(c + phi2)], [sin(Phi + b)*sin(a + phi1), -sin(Phi + b)*cos(a + phi1), cos(Phi + b)]])\n"
       ]
      }
     ],
     "prompt_number": 9
    },
    {
     "cell_type": "code",
     "collapsed": false,
     "input": [
      "cubic_sols = []\n",
      "tansbs = {sy.sin(Phi+b):sy.tan(Phi+b)*sy.cos(Phi+b), sy.sin(phi1+a):sy.tan(phi1+a)*sy.cos(phi1+a), sy.sin(phi2+c):sy.tan(phi2+c)*sy.cos(phi2+c),\n",
      "          sy.cos(Phi+b):sy.sin(Phi+b)/sy.tan(Phi+b), sy.cos(phi1+a):sy.sin(phi1+a)/sy.tan(phi1+a), sy.cos(phi2+c):sy.sin(phi2+c)*sy.tan(phi2+c)}\n",
      "#           sy.sin(Phi):sy.tan(Phi)*sy.cos(Phi), sy.sin(phi1):sy.tan(phi1)*sy.cos(phi1), sy.sin(phi2):sy.tan(phi2)*sy.cos(phi2),\n",
      "#           sy.cos(Phi):sy.sin(Phi)/sy.tan(Phi), sy.cos(phi1):sy.sin(phi1)/sy.tan(phi1), sy.cos(phi2):sy.sin(phi2)/sy.tan(phi2)}\n",
      "\n",
      "for ii in range(cubic_sym.shape[-1]):\n",
      "    system = orientaiton_matrix * cubic_sym[..., ii] - orientaiton_matrixabc\n",
      "#     tmp = system.subs(tansbs)\n",
      "    sol = sy.solve(system, a, b, c)\n",
      "#     if 0 in sol[0]:\n",
      "# #         print 'here'\n",
      "#         if 0 in sol[1]:\n",
      "# #             print 'there'\n",
      "#             tmp_sol = [2 * sy.pi if x == 0 else x for x in sol[0]]\n",
      "# #             print tmp_sol\n",
      "#             cubic_sols.append(tmp_sol)\n",
      "#         else:\n",
      "#             cubic_sols.append(sol[1])\n",
      "#     else:\n",
      "#         cubic_sols.append(sol[0])\n",
      "    cubic_sols.append(sol[0])\n",
      "       \n",
      "#     print sol\n",
      "#     print ''\n",
      "print cubic_sols\n"
     ],
     "language": "python",
     "metadata": {},
     "outputs": [
      {
       "output_type": "stream",
       "stream": "stdout",
       "text": [
        "[(-phi1 - asin(sqrt(-sin(Phi)**2*sin(phi1)**2/((cos(Phi) - 1.0)*(cos(Phi) + 1.0)))), -Phi + acos(cos(Phi)), -phi2 - asin(sqrt(-sin(Phi)**2*sin(phi2)**2/((cos(Phi) - 1.0)*(cos(Phi) + 1.0))))), (-phi1 + acos(-sqrt(-sin(Phi)**2*cos(phi1)**2/((cos(Phi) - 1.0)*(cos(Phi) + 1.0)))), -Phi + acos(-cos(Phi)), -phi2 - asin(sqrt(-sin(Phi)**2*sin(phi2)**2/((cos(Phi) - 1.0)*(cos(Phi) + 1.0))))), (-phi1 + acos(-sqrt(-cos(Phi)**2/((sin(Phi)*cos(phi1) - 1.0)*(sin(Phi)*cos(phi1) + 1.0)))), -Phi + acos(sin(Phi)*cos(phi1)), -phi2 - asin(sqrt(-(sin(phi1)*cos(phi2) + sin(phi2)*cos(Phi)*cos(phi1))**2/((sin(Phi)*cos(phi1) - 1.0)*(sin(Phi)*cos(phi1) + 1.0))))), (-phi1 + acos(-sqrt(-cos(Phi)**2/((sin(Phi)*cos(phi1) - 1.0)*(sin(Phi)*cos(phi1) + 1.0)))), -Phi + acos(-sin(Phi)*cos(phi1)), -phi2 + acos(-sqrt(-(-sin(phi1)*sin(phi2) + cos(Phi)*cos(phi1)*cos(phi2))**2/((sin(Phi)*cos(phi1) - 1.0)*(sin(Phi)*cos(phi1) + 1.0))))), (-phi1 - asin(sqrt(-sin(Phi)**2*sin(phi1)**2/((cos(Phi) - 1.0)*(cos(Phi) + 1.0)))), -Phi + acos(-cos(Phi)), -phi2 - asin(sqrt(-sin(Phi)**2*sin(phi2)**2/((cos(Phi) - 1.0)*(cos(Phi) + 1.0))))), (-phi1 - asin(sqrt(-sin(Phi)**2*sin(phi1)**2/((cos(Phi) - 1.0)*(cos(Phi) + 1.0)))), -Phi + acos(cos(Phi)), -phi2 - asin(sqrt(-sin(Phi)**2*sin(phi2)**2/((cos(Phi) - 1.0)*(cos(Phi) + 1.0))))), (-phi1 + acos(-sqrt(-cos(Phi)**2/((sin(Phi)*cos(phi1) - 1.0)*(sin(Phi)*cos(phi1) + 1.0)))), -Phi + acos(sin(Phi)*cos(phi1)), -phi2 - asin(sqrt(-(sin(phi1)*cos(phi2) + sin(phi2)*cos(Phi)*cos(phi1))**2/((sin(Phi)*cos(phi1) - 1.0)*(sin(Phi)*cos(phi1) + 1.0))))), (-phi1 + acos(-sqrt(-cos(Phi)**2/((sin(Phi)*cos(phi1) - 1.0)*(sin(Phi)*cos(phi1) + 1.0)))), -Phi + acos(-sin(Phi)*cos(phi1)), -phi2 + acos(-sqrt(-(-sin(phi1)*sin(phi2) + cos(Phi)*cos(phi1)*cos(phi2))**2/((sin(Phi)*cos(phi1) - 1.0)*(sin(Phi)*cos(phi1) + 1.0))))), (-phi1 + acos(-sqrt(-sin(Phi)**2*sin(phi1)**2/((cos(Phi) - 1.0)*(cos(Phi) + 1.0)))), -Phi + acos(cos(Phi)), -phi2 - asin(sqrt(-sin(Phi)**2*sin(phi2)**2/((cos(Phi) - 1.0)*(cos(Phi) + 1.0))))), (-phi1 - asin(sqrt(-cos(Phi)**2/((sin(Phi)*cos(phi1) - 1.0)*(sin(Phi)*cos(phi1) + 1.0)))), -Phi + acos(sin(Phi)*cos(phi1)), -phi2 - asin(sqrt(-(sin(phi1)*cos(phi2) + sin(phi2)*cos(Phi)*cos(phi1))**2/((sin(Phi)*cos(phi1) - 1.0)*(sin(Phi)*cos(phi1) + 1.0))))), (-phi1 + acos(-sqrt(-sin(Phi)**2*sin(phi1)**2/((cos(Phi) - 1.0)*(cos(Phi) + 1.0)))), -Phi + acos(-cos(Phi)), -phi2 - asin(sqrt(-sin(Phi)**2*sin(phi2)**2/((cos(Phi) - 1.0)*(cos(Phi) + 1.0))))), (-phi1 - asin(sqrt(-cos(Phi)**2/((sin(Phi)*cos(phi1) - 1.0)*(sin(Phi)*cos(phi1) + 1.0)))), -Phi + acos(-sin(Phi)*cos(phi1)), -phi2 + acos(-sqrt(-(-sin(phi1)*sin(phi2) + cos(Phi)*cos(phi1)*cos(phi2))**2/((sin(Phi)*cos(phi1) - 1.0)*(sin(Phi)*cos(phi1) + 1.0))))), (-phi1 - asin(sqrt(-sin(Phi)**2*cos(phi1)**2/((cos(Phi) - 1.0)*(cos(Phi) + 1.0)))), -Phi + acos(cos(Phi)), -phi2 - asin(sqrt(-sin(Phi)**2*sin(phi2)**2/((cos(Phi) - 1.0)*(cos(Phi) + 1.0))))), (-phi1 - asin(sqrt(-cos(Phi)**2/((sin(Phi)*cos(phi1) - 1.0)*(sin(Phi)*cos(phi1) + 1.0)))), -Phi + acos(sin(Phi)*cos(phi1)), -phi2 - asin(sqrt(-(sin(phi1)*cos(phi2) + sin(phi2)*cos(Phi)*cos(phi1))**2/((sin(Phi)*cos(phi1) - 1.0)*(sin(Phi)*cos(phi1) + 1.0))))), (-phi1 + acos(-sqrt(-sin(Phi)**2*sin(phi1)**2/((cos(Phi) - 1.0)*(cos(Phi) + 1.0)))), -Phi + acos(-cos(Phi)), -phi2 - asin(sqrt(-sin(Phi)**2*sin(phi2)**2/((cos(Phi) - 1.0)*(cos(Phi) + 1.0))))), (-phi1 - asin(sqrt(-cos(Phi)**2/((sin(Phi)*cos(phi1) - 1.0)*(sin(Phi)*cos(phi1) + 1.0)))), -Phi + acos(-sin(Phi)*cos(phi1)), -phi2 + acos(-sqrt(-(-sin(phi1)*sin(phi2) + cos(Phi)*cos(phi1)*cos(phi2))**2/((sin(Phi)*cos(phi1) - 1.0)*(sin(Phi)*cos(phi1) + 1.0))))), (-phi1 - asin(sqrt(-cos(Phi)**2/((sin(Phi)*sin(phi1) - 1.0)*(sin(Phi)*sin(phi1) + 1.0)))), -Phi + acos(sin(Phi)*sin(phi1)), -phi2 + acos(-sqrt(-(sin(phi1)*cos(Phi)*cos(phi2) + sin(phi2)*cos(phi1))**2/((sin(Phi)*sin(phi1) - 1.0)*(sin(Phi)*sin(phi1) + 1.0))))), (-phi1 + acos(-sqrt(-cos(Phi)**2/((sin(Phi)*sin(phi1) - 1.0)*(sin(Phi)*sin(phi1) + 1.0)))), -Phi + acos(sin(Phi)*sin(phi1)), -phi2 + acos(-sqrt(-(sin(phi1)*cos(Phi)*cos(phi2) + sin(phi2)*cos(phi1))**2/((sin(Phi)*sin(phi1) - 1.0)*(sin(Phi)*sin(phi1) + 1.0))))), (-phi1 - asin(sqrt(-cos(Phi)**2/((sin(Phi)*sin(phi1) - 1.0)*(sin(Phi)*sin(phi1) + 1.0)))), -Phi + acos(sin(Phi)*sin(phi1)), -phi2 + acos(-sqrt(-(sin(phi1)*cos(Phi)*cos(phi2) + sin(phi2)*cos(phi1))**2/((sin(Phi)*sin(phi1) - 1.0)*(sin(Phi)*sin(phi1) + 1.0))))), (-phi1 + acos(-sqrt(-cos(Phi)**2/((sin(Phi)*sin(phi1) - 1.0)*(sin(Phi)*sin(phi1) + 1.0)))), -Phi + acos(sin(Phi)*sin(phi1)), -phi2 + acos(-sqrt(-(sin(phi1)*cos(Phi)*cos(phi2) + sin(phi2)*cos(phi1))**2/((sin(Phi)*sin(phi1) - 1.0)*(sin(Phi)*sin(phi1) + 1.0))))), (-phi1 - asin(sqrt(-cos(Phi)**2/((sin(Phi)*sin(phi1) - 1.0)*(sin(Phi)*sin(phi1) + 1.0)))), -Phi + acos(-sin(Phi)*sin(phi1)), -phi2 - asin(sqrt(-(sin(phi1)*sin(phi2)*cos(Phi) - cos(phi1)*cos(phi2))**2/((sin(Phi)*sin(phi1) - 1.0)*(sin(Phi)*sin(phi1) + 1.0))))), (-phi1 + acos(-sqrt(-cos(Phi)**2/((sin(Phi)*sin(phi1) - 1.0)*(sin(Phi)*sin(phi1) + 1.0)))), -Phi + acos(-sin(Phi)*sin(phi1)), -phi2 - asin(sqrt(-(sin(phi1)*sin(phi2)*cos(Phi) - cos(phi1)*cos(phi2))**2/((sin(Phi)*sin(phi1) - 1.0)*(sin(Phi)*sin(phi1) + 1.0))))), (-phi1 - asin(sqrt(-cos(Phi)**2/((sin(Phi)*sin(phi1) - 1.0)*(sin(Phi)*sin(phi1) + 1.0)))), -Phi + acos(-sin(Phi)*sin(phi1)), -phi2 - asin(sqrt(-(sin(phi1)*sin(phi2)*cos(Phi) - cos(phi1)*cos(phi2))**2/((sin(Phi)*sin(phi1) - 1.0)*(sin(Phi)*sin(phi1) + 1.0))))), (-phi1 + acos(-sqrt(-cos(Phi)**2/((sin(Phi)*sin(phi1) - 1.0)*(sin(Phi)*sin(phi1) + 1.0)))), -Phi + acos(-sin(Phi)*sin(phi1)), -phi2 - asin(sqrt(-(sin(phi1)*sin(phi2)*cos(Phi) - cos(phi1)*cos(phi2))**2/((sin(Phi)*sin(phi1) - 1.0)*(sin(Phi)*sin(phi1) + 1.0)))))]\n"
       ]
      }
     ],
     "prompt_number": 10
    },
    {
     "cell_type": "code",
     "collapsed": false,
     "input": [
      "# print cubic_sols\n",
      "# print cubic_sols[1]\n",
      "print system\n",
      "\n",
      "arcsubs = {sy.acos(sy.cos(Phi)):Phi, sy.asin(1.0*sy.sin(phi1)):phi1, sy.asin(1.0*sy.sin(phi2)):phi2}\n",
      "tmp = cubic_sols[0][2].subs(arcsubs)\n",
      "# print tmp\n",
      "ans = tmp.subs({phi1:0., Phi:0., phi2:0.})\n",
      "# print ans\n",
      "# print cubic_sols[0][1]\n",
      "# print cubic_sols[4][2]"
     ],
     "language": "python",
     "metadata": {},
     "outputs": [
      {
       "output_type": "stream",
       "stream": "stdout",
       "text": [
        "Matrix([[1.0*sin(phi1)*cos(phi2) + 1.0*sin(phi2)*cos(Phi)*cos(phi1) + sin(a + phi1)*sin(c + phi2)*cos(Phi + b) - cos(a + phi1)*cos(c + phi2), -1.0*sin(Phi)*sin(phi2) - sin(a + phi1)*cos(c + phi2) - sin(c + phi2)*cos(Phi + b)*cos(a + phi1), 1.0*sin(phi1)*sin(phi2)*cos(Phi) - sin(Phi + b)*sin(c + phi2) - 1.0*cos(phi1)*cos(phi2)], [-1.0*sin(phi1)*sin(phi2) + sin(a + phi1)*cos(Phi + b)*cos(c + phi2) + sin(c + phi2)*cos(a + phi1) + 1.0*cos(Phi)*cos(phi1)*cos(phi2), -1.0*sin(Phi)*cos(phi2) + sin(a + phi1)*sin(c + phi2) - cos(Phi + b)*cos(a + phi1)*cos(c + phi2), 1.0*sin(phi1)*cos(Phi)*cos(phi2) + 1.0*sin(phi2)*cos(phi1) - sin(Phi + b)*cos(c + phi2)], [-1.0*sin(Phi)*cos(phi1) - sin(Phi + b)*sin(a + phi1), sin(Phi + b)*cos(a + phi1) - 1.0*cos(Phi), -1.0*sin(Phi)*sin(phi1) - cos(Phi + b)]])\n"
       ]
      }
     ],
     "prompt_number": 11
    },
    {
     "cell_type": "code",
     "collapsed": false,
     "input": [
      "#Tmp cell\n",
      "\n",
      "ans = []\n",
      "\n",
      "arcsubs = {sy.acos(sy.cos(Phi)):Phi, sy.asin(1.0*sy.sin(phi1)):phi1, sy.asin(1.0*sy.sin(phi2)):phi2}\n",
      "print len(cubic_sols)\n",
      "for i in range(len(cubic_sols)):\n",
      "    anssubs = {a: cubic_sols[i][0], b: cubic_sols[i][1], c: cubic_sols[i][2]}\n",
      "    # print anssubs\n",
      "    tmpsubs = anssubs.copy()\n",
      "    tmpsubs.update(arcsubs)\n",
      "    tmp = system.subs(tmpsubs)\n",
      "    # print tmp\n",
      "    ans.append(tmp.subs({phi1:0., Phi:0., phi2:0.}))\n",
      "print ans"
     ],
     "language": "python",
     "metadata": {},
     "outputs": [
      {
       "output_type": "stream",
       "stream": "stdout",
       "text": [
        "24\n",
        "[Matrix([\n",
        "[nan, nan, nan],\n",
        "[nan, nan, nan],\n",
        "[nan, nan,  -1]]), Matrix([\n",
        "[nan, nan, nan],\n",
        "[nan, nan, nan],\n",
        "[nan, nan,   1]]), Matrix([\n",
        "[1.0,    0, -1.0],\n",
        "[1.0,    0,   -1],\n",
        "[  0, -2.0,    0]]), Matrix([\n",
        "[-1.0,    0, -1.0],\n",
        "[ 1.0,    0,  1.0],\n",
        "[   0, -2.0,    0]]), Matrix([\n",
        "[nan, nan, nan],\n",
        "[nan, nan, nan],\n",
        "[nan, nan,   1]]), Matrix([\n",
        "[nan, nan, nan],\n",
        "[nan, nan, nan],\n",
        "[nan, nan,  -1]]), Matrix([\n",
        "[1.0,    0, -1.0],\n",
        "[1.0,    0,   -1],\n",
        "[  0, -2.0,    0]]), Matrix([\n",
        "[-1.0,    0, -1.0],\n",
        "[ 1.0,    0,  1.0],\n",
        "[   0, -2.0,    0]]), Matrix([\n",
        "[nan, nan, nan],\n",
        "[nan, nan, nan],\n",
        "[nan, nan,  -1]]), Matrix([\n",
        "[  0,  1.0, -1.0],\n",
        "[1.0,    0,   -1],\n",
        "[1.0, -1.0,    0]]), Matrix([\n",
        "[nan, nan, nan],\n",
        "[nan, nan, nan],\n",
        "[nan, nan,   1]]), Matrix([\n",
        "[  0, -1.0, -1.0],\n",
        "[1.0,    0,  1.0],\n",
        "[1.0, -1.0,    0]]), Matrix([\n",
        "[nan, nan, nan],\n",
        "[nan, nan, nan],\n",
        "[nan, nan,  -1]]), Matrix([\n",
        "[  0,  1.0, -1.0],\n",
        "[1.0,    0,   -1],\n",
        "[1.0, -1.0,    0]]), Matrix([\n",
        "[nan, nan, nan],\n",
        "[nan, nan, nan],\n",
        "[nan, nan,   1]]), Matrix([\n",
        "[  0, -1.0, -1.0],\n",
        "[1.0,    0,  1.0],\n",
        "[1.0, -1.0,    0]]), Matrix([\n",
        "[  0,    0, -2.0],\n",
        "[1.0, -1.0,    0],\n",
        "[1.0, -1.0,    0]]), Matrix([\n",
        "[0,    0, -2.0],\n",
        "[0,    0,    0],\n",
        "[0, -2.0,    0]]), Matrix([\n",
        "[  0,    0, -2.0],\n",
        "[1.0, -1.0,    0],\n",
        "[1.0, -1.0,    0]]), Matrix([\n",
        "[0,    0, -2.0],\n",
        "[0,    0,    0],\n",
        "[0, -2.0,    0]]), Matrix([\n",
        "[  0,    0, 0],\n",
        "[1.0,  1.0, 0],\n",
        "[1.0, -1.0, 0]]), Matrix([\n",
        "[  0,    0, 0],\n",
        "[2.0,    0, 0],\n",
        "[  0, -2.0, 0]]), Matrix([\n",
        "[  0,    0, 0],\n",
        "[1.0,  1.0, 0],\n",
        "[1.0, -1.0, 0]]), Matrix([\n",
        "[  0,    0, 0],\n",
        "[2.0,    0, 0],\n",
        "[  0, -2.0, 0]])]"
       ]
      },
      {
       "output_type": "stream",
       "stream": "stdout",
       "text": [
        "\n"
       ]
      }
     ],
     "prompt_number": 12
    },
    {
     "cell_type": "code",
     "collapsed": false,
     "input": [
      "print ans[23]"
     ],
     "language": "python",
     "metadata": {},
     "outputs": [
      {
       "output_type": "stream",
       "stream": "stdout",
       "text": [
        "Matrix([[0, 0, 0], [2.00000000000000, 0, 0], [0, -2.00000000000000, 0]])\n"
       ]
      }
     ],
     "prompt_number": 36
    },
    {
     "cell_type": "markdown",
     "metadata": {},
     "source": [
      "#Symmetrize GSH"
     ]
    },
    {
     "cell_type": "code",
     "collapsed": false,
     "input": [
      "# Initiate Solutions\n",
      "\n",
      "def symGSH(l):\n",
      "    init_val = 0\n",
      "    l_length = 2 * l + 1\n",
      "    solSubs = {phi1:init_val, Phi:init_val, phi2:init_val}\n",
      "    fSubs = {phi1:init_val, Phi:init_val, phi2:init_val}\n",
      "    nu = len(cubic_sols)\n",
      "    GSH_array = np.zeros((nu, l_length, l_length), dtype=complex)\n",
      "    tmp4 = np.zeros((nu, l_length, l_length), dtype=complex)\n",
      "    W = sy.Wild('w')\n",
      "    arcsubs = {sy.acos(sy.cos(Phi)):Phi, sy.asin(1.0*sy.sin(phi1)):phi1, sy.asin(1.0*sy.sin(phi2)):phi2}\n",
      "    \n",
      "    for sol in range(len(cubic_sols)):\n",
      "        solSubs[phi1], solSubs[Phi], solSubs[phi2] = cubic_sols[sol][0], cubic_sols[sol][1], cubic_sols[sol][2]\n",
      "        for n in range(-l,l+1):\n",
      "            for s in range(-l,l+1):\n",
      "                index = (sol, s+l, n+l)\n",
      "                tmp1 = GSH(l,s,n,phi1,Phi,phi2).subs(solSubs).subs(arcsubs)\n",
      "#                 tmp1 = sy.cancel((GSH(l,s,n,phi1,Phi,phi2).subs(solSubs)).rewrite(sy.exp))\n",
      "#                 tmp1 = GSH(l,s,n,phi1,Phi,phi2).subs(solSubs)\n",
      "#                 tmp2 = sy.simplify(sy.cancel(tmp1.rewrite(sy.exp)))\n",
      "                tmp2 = sy.trigsimp(tmp1)\n",
      "                tmp3 = tmp2.subs(fSubs).evalf()\n",
      "#                 if not isinstance(tmp2, complex):\n",
      "#                 if tmp1 != 0:\n",
      "#                     print tmp3\n",
      "#                     print GSH(l,s,n,phi1,Phi,phi2).subs(solSubs)\n",
      "#                     print ''\n",
      "#                 print tmp3\n",
      "                tmp4[index] = tmp3\n",
      "#                 if isinstance(tmp2, (int, long, float, complex)):\n",
      "#                     tmp3[index] = tmp2.subs(fSubs).evalf()\n",
      "#                 else:\n",
      "#                     print tmp2\n",
      "#                     tmp3[index] = tmp2\n",
      "#                 if tmp2 != 0:\n",
      "#                     print tmp1\n",
      "#                     print ''\n",
      "#                 GSH_array[index] = (((GSH(l,s,n,phi1,Phi,phi2)).subs(solSubs)).subs(fSubs).evalf()) - sy.KroneckerDelta(s,n)\n",
      "#     return GSH_array.reshape(nu * l_length,l_length)\n",
      "    return tmp4.reshape(nu * l_length,l_length)"
     ],
     "language": "python",
     "metadata": {},
     "outputs": [],
     "prompt_number": 19
    },
    {
     "cell_type": "code",
     "collapsed": false,
     "input": [
      "X1 = 0.176776695296637*np.complex(0, 1)*(-sy.cos(Phi - sy.acos(sy.cos(Phi))) + 1)**(-0.5)\n",
      "X2 = (sy.cos(Phi - sy.acos(sy.cos(Phi))) - 1)\n",
      "X3 =(sy.cos(Phi - sy.acos(sy.cos(Phi))) + 1)**3.5\n",
      "X4 = X1*X2\n",
      "XX = X4.subs({sy.acos(sy.cos(Phi)):Phi, sy.asin(1.0*sy.sin(phi1)):phi1, sy.asin(1.0*sy.sin(phi2)):phi2})\n",
      "\n",
      "\n",
      "Y1 = sy.exp(-4.0*np.complex(0, 1)*(-phi1 - sy.asin(1.0*sy.sin(phi1))))*sy.exp(-3.0*np.complex(0, 1)*(-phi2 - sy.asin(1.0*sy.sin(phi2))))\n",
      "YY = Y1.subs({sy.acos(sy.cos(Phi)):Phi, sy.asin(1.0*sy.sin(phi1)):phi1, sy.asin(1.0*sy.sin(phi2)):phi2})\n",
      "\n",
      "print XX\n",
      "# print YY\n",
      "# ZZ = X1*X2\n",
      "# print ZZ\n",
      "# Z1 = ZZ.subs({sy.acos(sy.cos(Phi)):Phi, sy.asin(1.0*sy.sin(phi1)):phi1, sy.asin(1.0*sy.sin(phi2)):phi2})\n",
      "# print Z1"
     ],
     "language": "python",
     "metadata": {},
     "outputs": [
      {
       "output_type": "stream",
       "stream": "stdout",
       "text": [
        "nan\n"
       ]
      }
     ],
     "prompt_number": 20
    },
    {
     "cell_type": "code",
     "collapsed": false,
     "input": [
      "l = 4\n",
      "T = symGSH(l)\n",
      "# print T.shape\n",
      "# print T"
     ],
     "language": "python",
     "metadata": {},
     "outputs": []
    },
    {
     "cell_type": "code",
     "collapsed": false,
     "input": [
      "np.set_printoptions(threshold='nan')\n",
      "# print (T)\n",
      "# print T.shape\n",
      "len(cubic_sols)"
     ],
     "language": "python",
     "metadata": {},
     "outputs": []
    },
    {
     "cell_type": "code",
     "collapsed": false,
     "input": [
      "print np.round(T[:9, :9], decimals=3)"
     ],
     "language": "python",
     "metadata": {},
     "outputs": []
    },
    {
     "cell_type": "code",
     "collapsed": false,
     "input": [
      "a = T\n",
      "b = np.zeros((216,1))\n",
      "\n",
      "np.linalg.solve(a, b)"
     ],
     "language": "python",
     "metadata": {},
     "outputs": []
    }
   ],
   "metadata": {}
  }
 ]
}