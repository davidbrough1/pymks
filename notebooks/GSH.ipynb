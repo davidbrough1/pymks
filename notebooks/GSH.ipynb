{
 "metadata": {
  "name": "",
  "signature": "sha256:a0b726046cddeb91ad998994006ba42f6ea62ca2b98d53012dc86e9e51113cad"
 },
 "nbformat": 3,
 "nbformat_minor": 0,
 "worksheets": [
  {
   "cells": [
    {
     "cell_type": "code",
     "collapsed": false,
     "input": [
      "%matplotlib inline\n",
      "%load_ext autoreload\n",
      "%autoreload 2\n",
      "\n",
      "import numpy as np\n",
      "import matplotlib.pyplot as plt\n",
      "import sympy as sy\n",
      "import math"
     ],
     "language": "python",
     "metadata": {},
     "outputs": [],
     "prompt_number": 2
    },
    {
     "cell_type": "markdown",
     "metadata": {},
     "source": [
      "#Bunge-Euler Legendre Polynomials"
     ]
    },
    {
     "cell_type": "code",
     "collapsed": false,
     "input": [
      "phi1, Phi, phi2, m, n, l = sy.Symbol('phi1'), sy.Symbol('Phi'), sy.Symbol('phi2'), sy.Symbol('m'), sy.Symbol('n'), sy.Symbol('l')"
     ],
     "language": "python",
     "metadata": {},
     "outputs": [],
     "prompt_number": 3
    },
    {
     "cell_type": "code",
     "collapsed": false,
     "input": [
      "def legendre(l, m, n, Phi):\n",
      "    norm1 = (((-1) ** (l - m) * np.complex(0, 1) ** (n - m)) / ((2. ** l) * sy.factorial(l - m)))\n",
      "    norm2 = sy.sqrt((sy.factorial(l - m) * sy.factorial(l + n)) / (sy.factorial(l + m) * sy.factorial(l - n)))\n",
      "    poly1 = (1. - sy.cos(Phi)) ** (-(n - m) / 2.) * (1. + sy.cos(Phi)) ** (-(n + m) / 2.)\n",
      "    poly2 = sy.diff((1. - sy.cos(Phi)) ** (l-m) * (1. + sy.cos(Phi)) ** (l + m), sy.cos(Phi), (l - n))\n",
      "    return norm1 * norm2 * poly1 * poly2, norm1, norm2, poly2\n",
      "#     return norm1"
     ],
     "language": "python",
     "metadata": {},
     "outputs": [],
     "prompt_number": 38
    },
    {
     "cell_type": "code",
     "collapsed": false,
     "input": [
      "legendre(1, 1, 1, Phi)"
     ],
     "language": "python",
     "metadata": {},
     "outputs": [
      {
       "metadata": {},
       "output_type": "pyout",
       "prompt_number": 39,
       "text": [
        "(0.5*(cos(Phi) + 1.0)**1.0, 0.500000000000000, 1, (cos(Phi) + 1.0)**2)"
       ]
      }
     ],
     "prompt_number": 39
    },
    {
     "cell_type": "markdown",
     "metadata": {},
     "source": [
      "# GSH Functions"
     ]
    },
    {
     "cell_type": "code",
     "collapsed": false,
     "input": [
      "def GSH(l, m, n, ph1, Phi, ph2):\n",
      "    lg = legendre(l, m, n, Phi)\n",
      "    return sy.exp(np.complex(0, 1) * m * phi1) * lg * sy.exp(np.complex(0, 1) * n * phi2)"
     ],
     "language": "python",
     "metadata": {},
     "outputs": []
    },
    {
     "cell_type": "code",
     "collapsed": false,
     "input": [
      "GSH(1, 1, n, phi1, Phi, phi2)"
     ],
     "language": "python",
     "metadata": {},
     "outputs": []
    },
    {
     "cell_type": "markdown",
     "metadata": {},
     "source": [
      "#Cubic Symmetries"
     ]
    },
    {
     "cell_type": "code",
     "collapsed": false,
     "input": [
      "cubic_sym = np.zeros((3, 3, 24))\n",
      "cubic_sym[:,:,0] = [[ 1, 0, 0], [ 0, 1, 0], [ 0, 0, 1]] \n",
      "cubic_sym[:,:,1] = [[ 1, 0, 0], [ 0,-1, 0], [ 0, 0,-1]] \n",
      "cubic_sym[:,:,2] = [[ 1, 0, 0], [ 0, 0,-1], [ 0, 1, 0]] \n",
      "cubic_sym[:,:,3] = [[ 1, 0, 0], [ 0, 0, 1], [ 0,-1, 0]]\n",
      "cubic_sym[:,:,4] = [[-1, 0, 0], [ 0, 1, 0], [ 0, 0,-1]] \n",
      "cubic_sym[:,:,5] = [[-1, 0, 0], [ 0,-1, 0], [ 0, 0, 1]]\n",
      "cubic_sym[:,:,6] = [[-1, 0, 0], [ 0, 0,-1], [ 0,-1, 0]] \n",
      "cubic_sym[:,:,7] = [[-1, 0, 0], [ 0, 0, 1], [ 0, 1, 0]]\n",
      "cubic_sym[:,:,8] = [[ 0, 1, 0], [-1, 0, 0], [ 0, 0, 1]]\n",
      "cubic_sym[:,:,9] = [[ 0, 1, 0], [ 0, 0,-1], [-1, 0, 0]] \n",
      "cubic_sym[:,:,10] =[[ 0, 1, 0], [ 1, 0, 0], [ 0, 0,-1]] \n",
      "cubic_sym[:,:,11] =[[ 0, 1, 0], [ 0, 0, 1], [ 1, 0, 0]]\n",
      "cubic_sym[:,:,12] =[[ 0,-1, 0], [ 1, 0, 0], [ 0, 0, 1]] \n",
      "cubic_sym[:,:,13] =[[ 0,-1, 0], [ 0, 0,-1], [ 1, 0, 0]] \n",
      "cubic_sym[:,:,14] =[[ 0,-1, 0], [-1, 0, 0], [ 0, 0,-1]]\n",
      "cubic_sym[:,:,15] =[[ 0,-1, 0], [ 0, 0, 1], [-1, 0, 0]]\n",
      "cubic_sym[:,:,16] =[[ 0, 0, 1], [ 0, 1, 0], [-1, 0, 0]] \n",
      "cubic_sym[:,:,17] =[[ 0, 0, 1], [ 1, 0, 0], [ 0, 1, 0]] \n",
      "cubic_sym[:,:,18] =[[ 0, 0, 1], [ 0,-1, 0], [ 1, 0, 0]] \n",
      "cubic_sym[:,:,19] =[[ 0, 0, 1], [-1, 0, 0], [ 0,-1, 0]]\n",
      "cubic_sym[:,:,20] =[[ 0, 0,-1], [ 0, 1, 0], [ 1, 0, 0]] \n",
      "cubic_sym[:,:,21] =[[ 0, 0,-1], [-1, 0, 0], [ 0, 1, 0]]\n",
      "cubic_sym[:,:,22] =[[ 0, 0,-1], [ 0,-1, 0], [-1, 0, 0]] \n",
      "cubic_sym[:,:,23] =[[ 0, 0,-1], [ 1, 0, 0], [ 0,-1, 0]]"
     ],
     "language": "python",
     "metadata": {},
     "outputs": []
    },
    {
     "cell_type": "markdown",
     "metadata": {},
     "source": [
      "# Hexagonal Symmetries"
     ]
    },
    {
     "cell_type": "code",
     "collapsed": false,
     "input": [
      "a = np.sqrt(3) / 2\n",
      "# a = sy.Symbol('a')\n",
      "hcp_sym = np.zeros((3, 3, 12))\n",
      "hcp_sym[..., 0] = [[ 1, 0, 0], [ 0, 1, 0], [ 0, 0, 1]]\n",
      "hcp_sym[..., 1] = [[-.5, a, 0], [-a,-.5, 0], [ 0, 0, 1]]\n",
      "hcp_sym[..., 2] = [[-.5,-a, 0], [ a,-.5, 0], [ 0, 0, 1]]\n",
      "hcp_sym[..., 3] = [[.5, a, 0], [-a,.5, 0], [ 0, 0, 1]]\n",
      "hcp_sym[..., 4] = [[.5,-a, 0], [a, .5, 0], [ 0, 0, 1]]\n",
      "hcp_sym[..., 5] = [[-1, 0, 0], [ 0,-1, 0], [ 0, 0, 1]]\n",
      "hcp_sym[..., 6] = [[-.5,-a, 0], [-a, .5, 0], [ 0, 0,-1]]\n",
      "hcp_sym[..., 7] = [[ 1, 0, 0], [ 0,-1, 0], [ 0, 0,-1]]\n",
      "hcp_sym[..., 8] = [[-.5, a, 0], [ a, .5, 0], [ 0, 0,-1]]\n",
      "hcp_sym[..., 9] = [[ .5, a, 0], [ a,-.5, 0], [ 0, 0,-1]]\n",
      "hcp_sym[..., 10] = [[-1, 0, 0], [ 0, 1, 0], [ 0, 0,-1]]\n",
      "hcp_sym[..., 11] = [[ .5,-a, 0], [-a,-.5, 0], [ 0, 0,-1]]"
     ],
     "language": "python",
     "metadata": {},
     "outputs": []
    },
    {
     "cell_type": "markdown",
     "metadata": {},
     "source": [
      "#Tetragonal Symmetries"
     ]
    },
    {
     "cell_type": "code",
     "collapsed": false,
     "input": [
      "tetrag_sym = np.zeros((3, 3, 8))\n",
      "tetrag_sym[..., 0] = [[ 1, 0, 0], [ 0, 1, 0], [ 0, 0, 1]]\n",
      "tetrag_sym[..., 1] = [[-1, 0, 0], [ 0, 1, 0], [ 0, 0,-1]]\n",
      "tetrag_sym[..., 2] = [[ 1, 0, 0], [ 0,-1, 0], [ 0, 0,-1]]\n",
      "tetrag_sym[..., 3] = [[-1, 0, 0], [ 0,-1, 0], [ 0, 0, 1]]\n",
      "tetrag_sym[..., 4] = [[ 0, 1, 0], [-1, 0, 0], [ 0, 0, 1]]\n",
      "tetrag_sym[..., 5] = [[ 0,-1, 0], [ 1, 0, 0], [ 0, 0, 1]]\n",
      "tetrag_sym[..., 6] = [[ 0, 1, 0], [ 1, 0, 0], [ 0, 0,-1]]\n",
      "tetrag_sym[..., 7] = [[ 0,-1, 0], [-1, 0, 0], [ 0, 0,-1]]"
     ],
     "language": "python",
     "metadata": {},
     "outputs": []
    },
    {
     "cell_type": "markdown",
     "metadata": {},
     "source": [
      "#Orientation Matrix for Bungee-Euler Representations"
     ]
    },
    {
     "cell_type": "code",
     "collapsed": false,
     "input": [
      "orientation1 = sy.Matrix([[sy.cos(phi2), sy.sin(phi2), 0], [-sy.sin(phi2), sy.cos(phi2), 0], [0, 0, 1]])\n",
      "orientation2 = sy.Matrix([ [1, 0, 0], [0, sy.cos(Phi), sy.sin(Phi)], [0, -sy.sin(Phi), sy.cos(Phi)]])\n",
      "orientation3 = sy.Matrix([[sy.cos(phi1), sy.sin(phi1), 0], [-sy.sin(phi1), sy.cos(phi1), 0], [0, 0, 1]])\n",
      "\n",
      "orientaiton_matrix = orientation1 * orientation2 * orientation3"
     ],
     "language": "python",
     "metadata": {},
     "outputs": []
    },
    {
     "cell_type": "code",
     "collapsed": false,
     "input": [
      "a, b, c = sy.Symbol('a'), sy.Symbol('b'), sy.Symbol('c')\n",
      "orientation1a = sy.Matrix([[sy.cos(phi2 + c), sy.sin(phi2 + c), 0], [-sy.sin(phi2 + c), sy.cos(phi2 + c), 0], [0, 0, 1]])\n",
      "orientation2b = sy.Matrix([ [1, 0, 0], [0, sy.cos(Phi + b), sy.sin(Phi + b)], [0, -sy.sin(Phi + b), sy.cos(Phi + b)]])\n",
      "orientation3c = sy.Matrix([[sy.cos(phi1 + a), sy.sin(phi1 + a), 0], [-sy.sin(phi1 + a), sy.cos(phi1 + a), 0], [0, 0, 1]])\n",
      "\n",
      "orientaiton_matrixabc = orientation1a * orientation2b * orientation3c"
     ],
     "language": "python",
     "metadata": {},
     "outputs": []
    },
    {
     "cell_type": "code",
     "collapsed": false,
     "input": [
      "cubic_sols = []\n",
      "for ii in range(24):\n",
      "    system = cubic_sym[..., ii] * orientaiton_matrix - orientaiton_matrixabc\n",
      "    sol = sy.solve(system, a, b, c)\n",
      "    cubic_sols.append(sy.simplify(sol[0]))"
     ],
     "language": "python",
     "metadata": {},
     "outputs": []
    },
    {
     "cell_type": "markdown",
     "metadata": {},
     "source": [
      "#Symmetrize GSH"
     ]
    },
    {
     "cell_type": "code",
     "collapsed": false,
     "input": [
      "print cubic_sols[1]\n",
      "s, n  = sy.Symbol('s'), sy.Symbol('n')\n",
      "delta_funct = sy.KroneckerDelta(s,n)\n",
      "type(cubic_sols[0])\n",
      "\n",
      "GSH(1,1,2,2,2,2)\n",
      "\n"
     ],
     "language": "python",
     "metadata": {},
     "outputs": []
    },
    {
     "cell_type": "code",
     "collapsed": false,
     "input": [
      "# Solve for Symmertry coefficeients\n",
      "solSubs = {phi1:0, Phi:0, phi2:0}\n",
      "fSubs = {phi1:0, Phi:0, phi2:0}\n",
      "l=1\n",
      "for n in range(-l,l+1)\n",
      "    \n",
      "\n"
     ],
     "language": "python",
     "metadata": {},
     "outputs": []
    },
    {
     "cell_type": "code",
     "collapsed": false,
     "input": [
      "# Initiate Solutions\n",
      "GSH_array = np.zeros((2, 3, 3, 3))\n",
      "delta_array = np.zeros((2, 3, 3, 3))\n",
      "solSubs = {phi1:0, Phi:0, phi2:0}\n",
      "fSubs = {phi1:0, Phi:0, phi2:0}\n",
      "l = 1\n",
      "tmp = []\n",
      "order = []\n",
      "solist = []\n",
      "# for nu in range(len(cubic_sols)):\n",
      "for nu in range(1):\n",
      "    solSubs[phi1] = cubic_sols[nu][0]\n",
      "    solSubs[Phi] = cubic_sols[nu][1]\n",
      "    solSubs[phi2] = cubic_sols[nu][2]\n",
      "    for n in range(-l,l+1):\n",
      "        for s in range(-l,l+1):\n",
      "            for m in range(-l,l+1):\n",
      "                index = (l, n, s, m)\n",
      "                order.append(index)\n",
      "                delta_array[index] = sy.KroneckerDelta(s,n)\n",
      "                GSH_array[index] = sy.simplify((GSH(l,m,n,phi1,Phi,phi2)).subs(solSubs)).subs(fSubs).evalf()\n",
      "                \n",
      "print GSH_array "
     ],
     "language": "python",
     "metadata": {},
     "outputs": []
    },
    {
     "cell_type": "code",
     "collapsed": false,
     "input": [],
     "language": "python",
     "metadata": {},
     "outputs": []
    },
    {
     "cell_type": "code",
     "collapsed": false,
     "input": [
      "coeff_array = np.zeros_like(GSH_array)\n",
      "sy.solve((sy.Matrix(coeff_array) * (sy.Matrix(GSH_array) - sy.Matrix(delta_array))), coe"
     ],
     "language": "python",
     "metadata": {},
     "outputs": []
    },
    {
     "cell_type": "code",
     "collapsed": false,
     "input": [
      "solSubs = {phi1:1, Phi:3, phi2:0}\n",
      "for kk in range(24):\n",
      "    solSubs[Phi] = cubic_sols[kk][1]\n",
      "#     subs{Phi0}\n",
      "    print 'sols', solSubs\n",
      "# (GSH(1,1,1,phi1,Phi,phi2)).subs(solSubs)"
     ],
     "language": "python",
     "metadata": {},
     "outputs": []
    },
    {
     "cell_type": "code",
     "collapsed": false,
     "input": [],
     "language": "python",
     "metadata": {},
     "outputs": []
    }
   ],
   "metadata": {}
  }
 ]
}