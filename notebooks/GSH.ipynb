{
 "metadata": {
  "name": "",
  "signature": "sha256:0a8ab64f8fdc45ae773a9d490f300b9324530ab840b60763b892d1566690a507"
 },
 "nbformat": 3,
 "nbformat_minor": 0,
 "worksheets": [
  {
   "cells": [
    {
     "cell_type": "code",
     "collapsed": false,
     "input": [
      "%matplotlib inline\n",
      "%load_ext autoreload\n",
      "%autoreload 2\n",
      "\n",
      "import numpy as np\n",
      "import matplotlib.pyplot as plt\n",
      "import sympy as sy\n",
      "import math"
     ],
     "language": "python",
     "metadata": {},
     "outputs": [],
     "prompt_number": 1
    },
    {
     "cell_type": "markdown",
     "metadata": {},
     "source": [
      "#Bunge-Euler Legendre Polynomials"
     ]
    },
    {
     "cell_type": "code",
     "collapsed": false,
     "input": [
      "phi1, Phi, phi2, m, n, l = sy.Symbol('phi1'), sy.Symbol('Phi'), sy.Symbol('phi2'), sy.Symbol('m'), sy.Symbol('n'), sy.Symbol('l')"
     ],
     "language": "python",
     "metadata": {},
     "outputs": [],
     "prompt_number": 2
    },
    {
     "cell_type": "code",
     "collapsed": false,
     "input": [
      "def legendre(l, m, n, Phi):\n",
      "    norm1 = (((-1) ** (l - m) * np.complex(0, 1) ** (n - m)) / ((2. ** l) * math.factorial(l - m)))\n",
      "    norm2 = math.sqrt(float(math.factorial(l - m) * sy.factorial(l + n)) / float(math.factorial(l + m) * math.factorial(l - n)))\n",
      "    poly1 = (1 - sy.cos(Phi)) ** (-(n - m) / 2.) * (1 + sy.cos(Phi)) ** (-(n + m) / 2.)\n",
      "    poly2 = sy.diff((1 - sy.cos(Phi)) ** (l-m) * (1 + sy.cos(Phi)) ** (l + m), sy.cos(Phi), (l - n))\n",
      "    return norm1 * norm2 * poly1 * poly2"
     ],
     "language": "python",
     "metadata": {},
     "outputs": [],
     "prompt_number": 3
    },
    {
     "cell_type": "markdown",
     "metadata": {},
     "source": [
      "# GSH Functions"
     ]
    },
    {
     "cell_type": "code",
     "collapsed": false,
     "input": [
      "def GSH(l, m, n, ph1, Phi, ph2):\n",
      "    lg = legendre(l, m, n, Phi)\n",
      "    return sy.exp(np.complex(0, 1) * m * phi1) * lg * sy.exp(np.complex(0, 1) * n * phi2)"
     ],
     "language": "python",
     "metadata": {},
     "outputs": [],
     "prompt_number": 4
    },
    {
     "cell_type": "markdown",
     "metadata": {},
     "source": [
      "#Cubic Symmetries"
     ]
    },
    {
     "cell_type": "code",
     "collapsed": false,
     "input": [
      "cubic_sym = np.zeros((3, 3, 24))\n",
      "\n",
      "\n",
      "# cubic_sym[:,:,0] = [[ 1, 0, 0], [ 0, 0, 1], [ 0,-1, 0]]\n",
      "# cubic_sym[:,:,0] =[[ 0,-1, 0], [ 1, 0, 0], [ 0, 0, 1]] \n",
      "# cubic_sym[:,:,1] = [[ 1, 0, 0], [ 0, 0, 1], [ 0,-1, 0]]\n",
      "# cubic_sym[:,:,2] = [[ 1, 0, 0], [ 0, 1, 0], [ 0, 0, 1]] \n",
      "# cubic_sym[:,:,3] = [[ 1, 0, 0], [ 0, 0,-1], [ 0, 1, 0]]\n",
      "# cubic_sym[:,:,4] = [[ 1, 0, 0], [ 0,-1, 0], [ 0, 0,-1]]\n",
      "\n",
      "cubic_sym[:,:,0] = [[ 1, 0, 0], [ 0, 1, 0], [ 0, 0, 1]] \n",
      "cubic_sym[:,:,1] = [[ 1, 0, 0], [ 0,-1, 0], [ 0, 0,-1]] \n",
      "cubic_sym[:,:,2] = [[ 1, 0, 0], [ 0, 0,-1], [ 0, 1, 0]] \n",
      "cubic_sym[:,:,3] = [[ 1, 0, 0], [ 0, 0, 1], [ 0,-1, 0]]\n",
      "cubic_sym[:,:,4] = [[-1, 0, 0], [ 0, 1, 0], [ 0, 0,-1]] \n",
      "cubic_sym[:,:,5] = [[-1, 0, 0], [ 0,-1, 0], [ 0, 0, 1]]\n",
      "cubic_sym[:,:,6] = [[-1, 0, 0], [ 0, 0,-1], [ 0,-1, 0]] \n",
      "cubic_sym[:,:,7] = [[-1, 0, 0], [ 0, 0, 1], [ 0, 1, 0]]\n",
      "cubic_sym[:,:,8] = [[ 0, 1, 0], [-1, 0, 0], [ 0, 0, 1]]\n",
      "cubic_sym[:,:,9] = [[ 0, 1, 0], [ 0, 0,-1], [-1, 0, 0]] \n",
      "cubic_sym[:,:,10] =[[ 0, 1, 0], [ 1, 0, 0], [ 0, 0,-1]] \n",
      "cubic_sym[:,:,11] =[[ 0, 1, 0], [ 0, 0, 1], [ 1, 0, 0]]\n",
      "cubic_sym[:,:,12] =[[ 0,-1, 0], [ 1, 0, 0], [ 0, 0, 1]] \n",
      "cubic_sym[:,:,13] =[[ 0,-1, 0], [ 0, 0,-1], [ 1, 0, 0]] \n",
      "cubic_sym[:,:,14] =[[ 0,-1, 0], [-1, 0, 0], [ 0, 0,-1]]\n",
      "cubic_sym[:,:,15] =[[ 0,-1, 0], [ 0, 0, 1], [-1, 0, 0]]\n",
      "cubic_sym[:,:,16] =[[ 0, 0, 1], [ 0, 1, 0], [-1, 0, 0]] \n",
      "cubic_sym[:,:,17] =[[ 0, 0, 1], [ 1, 0, 0], [ 0, 1, 0]] \n",
      "cubic_sym[:,:,18] =[[ 0, 0, 1], [ 0,-1, 0], [ 1, 0, 0]] \n",
      "cubic_sym[:,:,19] =[[ 0, 0, 1], [-1, 0, 0], [ 0,-1, 0]]\n",
      "cubic_sym[:,:,20] =[[ 0, 0,-1], [ 0, 1, 0], [ 1, 0, 0]] \n",
      "cubic_sym[:,:,21] =[[ 0, 0,-1], [-1, 0, 0], [ 0, 1, 0]]\n",
      "cubic_sym[:,:,22] =[[ 0, 0,-1], [ 0,-1, 0], [-1, 0, 0]] \n",
      "cubic_sym[:,:,23] =[[ 0, 0,-1], [ 1, 0, 0], [ 0,-1, 0]]\n"
     ],
     "language": "python",
     "metadata": {},
     "outputs": [],
     "prompt_number": 5
    },
    {
     "cell_type": "markdown",
     "metadata": {},
     "source": [
      "# Hexagonal Symmetries"
     ]
    },
    {
     "cell_type": "code",
     "collapsed": false,
     "input": [
      "a = np.sqrt(3) / 2\n",
      "# a = sy.Symbol('a')\n",
      "hcp_sym = np.zeros((3, 3, 12))\n",
      "hcp_sym[..., 0] = [[ 1, 0, 0], [ 0, 1, 0], [ 0, 0, 1]]\n",
      "hcp_sym[..., 1] = [[-.5, a, 0], [-a,-.5, 0], [ 0, 0, 1]]\n",
      "hcp_sym[..., 2] = [[-.5,-a, 0], [ a,-.5, 0], [ 0, 0, 1]]\n",
      "hcp_sym[..., 3] = [[.5, a, 0], [-a,.5, 0], [ 0, 0, 1]]\n",
      "hcp_sym[..., 4] = [[.5,-a, 0], [a, .5, 0], [ 0, 0, 1]]\n",
      "hcp_sym[..., 5] = [[-1, 0, 0], [ 0,-1, 0], [ 0, 0, 1]]\n",
      "hcp_sym[..., 6] = [[-.5,-a, 0], [-a, .5, 0], [ 0, 0,-1]]\n",
      "hcp_sym[..., 7] = [[ 1, 0, 0], [ 0,-1, 0], [ 0, 0,-1]]\n",
      "hcp_sym[..., 8] = [[-.5, a, 0], [ a, .5, 0], [ 0, 0,-1]]\n",
      "hcp_sym[..., 9] = [[ .5, a, 0], [ a,-.5, 0], [ 0, 0,-1]]\n",
      "hcp_sym[..., 10] = [[-1, 0, 0], [ 0, 1, 0], [ 0, 0,-1]]\n",
      "hcp_sym[..., 11] = [[ .5,-a, 0], [-a,-.5, 0], [ 0, 0,-1]]"
     ],
     "language": "python",
     "metadata": {},
     "outputs": [],
     "prompt_number": 6
    },
    {
     "cell_type": "markdown",
     "metadata": {},
     "source": [
      "#Tetragonal Symmetries"
     ]
    },
    {
     "cell_type": "code",
     "collapsed": false,
     "input": [
      "tetrag_sym = np.zeros((3, 3, 8))\n",
      "tetrag_sym[..., 0] = [[ 1, 0, 0], [ 0, 1, 0], [ 0, 0, 1]]\n",
      "tetrag_sym[..., 1] = [[-1, 0, 0], [ 0, 1, 0], [ 0, 0,-1]]\n",
      "tetrag_sym[..., 2] = [[ 1, 0, 0], [ 0,-1, 0], [ 0, 0,-1]]\n",
      "tetrag_sym[..., 3] = [[-1, 0, 0], [ 0,-1, 0], [ 0, 0, 1]]\n",
      "tetrag_sym[..., 4] = [[ 0, 1, 0], [-1, 0, 0], [ 0, 0, 1]]\n",
      "tetrag_sym[..., 5] = [[ 0,-1, 0], [ 1, 0, 0], [ 0, 0, 1]]\n",
      "tetrag_sym[..., 6] = [[ 0, 1, 0], [ 1, 0, 0], [ 0, 0,-1]]\n",
      "tetrag_sym[..., 7] = [[ 0,-1, 0], [-1, 0, 0], [ 0, 0,-1]]"
     ],
     "language": "python",
     "metadata": {},
     "outputs": [],
     "prompt_number": 7
    },
    {
     "cell_type": "markdown",
     "metadata": {},
     "source": [
      "#Orientation Matrix for Bungee-Euler Representations"
     ]
    },
    {
     "cell_type": "code",
     "collapsed": false,
     "input": [
      "orientation1 = sy.Matrix([[sy.cos(phi2), sy.sin(phi2), 0], [-sy.sin(phi2), sy.cos(phi2), 0], [0, 0, 1]])\n",
      "orientation2 = sy.Matrix([ [1, 0, 0], [0, sy.cos(Phi), sy.sin(Phi)], [0, -sy.sin(Phi), sy.cos(Phi)]])\n",
      "orientation3 = sy.Matrix([[sy.cos(phi1), sy.sin(phi1), 0], [-sy.sin(phi1), sy.cos(phi1), 0], [0, 0, 1]])\n",
      "\n",
      "orientaiton_matrix = (orientation1 * orientation2 * orientation3)\n",
      "\n",
      "print orientaiton_matrix"
     ],
     "language": "python",
     "metadata": {},
     "outputs": [
      {
       "output_type": "stream",
       "stream": "stdout",
       "text": [
        "Matrix([[-sin(phi1)*sin(phi2)*cos(Phi) + cos(phi1)*cos(phi2), sin(phi1)*cos(phi2) + sin(phi2)*cos(Phi)*cos(phi1), sin(Phi)*sin(phi2)], [-sin(phi1)*cos(Phi)*cos(phi2) - sin(phi2)*cos(phi1), -sin(phi1)*sin(phi2) + cos(Phi)*cos(phi1)*cos(phi2), sin(Phi)*cos(phi2)], [sin(Phi)*sin(phi1), -sin(Phi)*cos(phi1), cos(Phi)]])\n"
       ]
      }
     ],
     "prompt_number": 8
    },
    {
     "cell_type": "code",
     "collapsed": false,
     "input": [
      "a, b, c = sy.Symbol('a'), sy.Symbol('b'), sy.Symbol('c')\n",
      "\n",
      "orientation1a = sy.Matrix([[sy.cos(phi2 + c), sy.sin(phi2 + c), 0], [-sy.sin(phi2 + c), sy.cos(phi2 + c), 0], [0, 0, 1]])\n",
      "orientation2b = sy.Matrix([ [1, 0, 0], [0, sy.cos(Phi + b), sy.sin(Phi + b)], [0, -sy.sin(Phi + b), sy.cos(Phi + b)]])\n",
      "orientation3c = sy.Matrix([[sy.cos(phi1 + a), sy.sin(phi1 + a), 0], [-sy.sin(phi1 + a), sy.cos(phi1 + a), 0], [0, 0, 1]])\n",
      "\n",
      "orientaiton_matrixabc = (orientation1a * orientation2b * orientation3c)\n",
      "print orientaiton_matrixabc\n"
     ],
     "language": "python",
     "metadata": {},
     "outputs": [
      {
       "output_type": "stream",
       "stream": "stdout",
       "text": [
        "Matrix([[-sin(a + phi1)*sin(c + phi2)*cos(Phi + b) + cos(a + phi1)*cos(c + phi2), sin(a + phi1)*cos(c + phi2) + sin(c + phi2)*cos(Phi + b)*cos(a + phi1), sin(Phi + b)*sin(c + phi2)], [-sin(a + phi1)*cos(Phi + b)*cos(c + phi2) - sin(c + phi2)*cos(a + phi1), -sin(a + phi1)*sin(c + phi2) + cos(Phi + b)*cos(a + phi1)*cos(c + phi2), sin(Phi + b)*cos(c + phi2)], [sin(Phi + b)*sin(a + phi1), -sin(Phi + b)*cos(a + phi1), cos(Phi + b)]])\n"
       ]
      }
     ],
     "prompt_number": 9
    },
    {
     "cell_type": "code",
     "collapsed": false,
     "input": [
      "cubic_sols = []\n",
      "cos_sub = {(sy.cos(Phi) - 1.0)*(sy.cos(Phi) + 1.0):-sy.sin(Phi)**2}\n",
      "arcsubs = {sy.acos(sy.cos(Phi)): Phi, sy.asin(1.0*sy.sin(phi1)): phi1, sy.asin(1.0*sy.sin(phi2)): phi2,\n",
      "           sy.asin(sy.sin(phi2)): phi2, sy.asin(sy.sin(phi1)): phi1, sy.acos(-sy.cos(phi1)): phi1 - sy.pi,\n",
      "           sy.acos(-sy.cos(Phi)): Phi - sy.pi, sy.acos(-sy.sin(phi1)): -sy.pi / 2 - phi1,\n",
      "           sy.asin(sy.sqrt(sy.sin(phi1)**2)): phi1, sy.asin(sy.sqrt(sy.sin(phi2)**2)): phi2,\n",
      "           sy.acos(-sy.sqrt(sy.cos(phi1)**2)): phi1 - sy.pi, sy.acos(-sy.sqrt(sy.cos(phi2)**2)): phi2 - sy.pi,\n",
      "           sy.acos(sy.sqrt(sy.cos(phi1)**2)): phi1, sy.acos(sy.sqrt(sy.cos(phi2)**2)): phi2}\n",
      "\n",
      "for ii in range(cubic_sym.shape[-1]):\n",
      "    system = orientaiton_matrix * cubic_sym[..., ii] - orientaiton_matrixabc\n",
      "    sol = sy.solve(system, a, b, c)[0]\n",
      "    simplified_sol = [sy.simplify(sol[j].subs(cos_sub)) for j in np.arange(3)]\n",
      "    cubic_sols.append(simplified_sol)\n",
      "    \n",
      "# print cubic_sols"
     ],
     "language": "python",
     "metadata": {},
     "outputs": [],
     "prompt_number": 10
    },
    {
     "cell_type": "code",
     "collapsed": false,
     "input": [
      "#Tmp Cell - Look at solution values\n",
      "\n",
      "tmp_cubic_sols = []\n",
      "for ii in cubic_sols:\n",
      "#     print ii\n",
      "    tmp = [jj.subs(arcsubs) for jj in ii]\n",
      "#     print tmp\n",
      "    tmp2 = [kk.subs({phi1: 0, Phi: 0, phi2: 0}) for kk in tmp]\n",
      "#     print tmp2\n",
      "    tmp_cubic_sols.append(tmp2)\n",
      "#     print ''\n",
      "print tmp_cubic_sols"
     ],
     "language": "python",
     "metadata": {},
     "outputs": [
      {
       "output_type": "stream",
       "stream": "stdout",
       "text": [
        "[[0, 0, 0], [-pi, -pi, 0], [3.14159265358979, pi/2, 0], [3.14159265358979, pi/2, 3.14159265358979], [0, -pi, 0], [0, 0, 0], [3.14159265358979, pi/2, 0], [3.14159265358979, pi/2, 3.14159265358979], [-pi/2, 0, 0], [-1.57079632679490, pi/2, 0], [-pi/2, -pi, 0], [-1.57079632679490, pi/2, 3.14159265358979], [-pi/2, 0, 0], [-1.57079632679490, pi/2, 0], [-pi/2, -pi, 0], [-1.57079632679490, pi/2, 3.14159265358979], [-1.57079632679490, pi/2, pi/2], [3.14159265358979, pi/2, pi/2], [-1.57079632679490, pi/2, pi/2], [3.14159265358979, pi/2, pi/2], [-1.57079632679490, pi/2, -1.57079632679490], [3.14159265358979, pi/2, -1.57079632679490], [-1.57079632679490, pi/2, -1.57079632679490], [3.14159265358979, pi/2, -1.57079632679490]]\n"
       ]
      }
     ],
     "prompt_number": 23
    },
    {
     "cell_type": "code",
     "collapsed": false,
     "input": [
      "#Tmp Cell - Look at difference solutions kk for symmetry ii\n",
      "\n",
      "'''\n",
      "cubic_sols_tmp = []\n",
      "\n",
      "for ii in range(4, 5): # cubic_sym.shape[-1]):\n",
      "    system = orientaiton_matrix * cubic_sym[..., ii] - orientaiton_matrixabc\n",
      "    sol = sy.solve(system, a, b, c) #[0]\n",
      "    simplified_sol = []\n",
      "    for kk in range(len(sol)):\n",
      "        simplified_sol.append([sol[kk][j].subs(cos_sub).subs(arcsubs) for j in np.arange(3)])\n",
      "    cubic_sols_tmp.append(simplified_sol)\n",
      "'''"
     ],
     "language": "python",
     "metadata": {},
     "outputs": [
      {
       "metadata": {},
       "output_type": "pyout",
       "prompt_number": 54,
       "text": [
        "'\\ncubic_sols_tmp = []\\n\\nfor ii in range(4, 5): # cubic_sym.shape[-1]):\\n    system = orientaiton_matrix * cubic_sym[..., ii] - orientaiton_matrixabc\\n    sol = sy.solve(system, a, b, c) #[0]\\n    simplified_sol = []\\n    for kk in range(len(sol)):\\n        simplified_sol.append([sol[kk][j].subs(cos_sub).subs(arcsubs) for j in np.arange(3)])\\n    cubic_sols_tmp.append(simplified_sol)\\n'"
       ]
      }
     ],
     "prompt_number": 54
    },
    {
     "cell_type": "code",
     "collapsed": false,
     "input": [
      "#Tmp Cell\n",
      "\n",
      "# tmp_array = np.array([0, 1, 4, 5, 8, 10, 12, 14])\n",
      "# sym_op = 5\n",
      "# print cubic_sym[..., sym_op]\n",
      "# print ''\n",
      "# for i in range(len(cubic_sols_tmp[0])):\n",
      "#     print cubic_sols_tmp[0][i]\n",
      "    \n",
      "# print cubic_sols_tmp[0][8]"
     ],
     "language": "python",
     "metadata": {},
     "outputs": [],
     "prompt_number": 55
    },
    {
     "cell_type": "code",
     "collapsed": false,
     "input": [
      "#tmp Cell\n",
      "\n",
      "'''\n",
      "tmp_array = np.array([0, 1, 4, 5, 8, 10, 12, 14])\n",
      "tmp_array = np.arange(24)\n",
      "arcsubs = {sy.acos(sy.cos(Phi)): Phi, sy.asin(1.0*sy.sin(phi1)): phi1, sy.asin(1.0*sy.sin(phi2)): phi2,\n",
      "           sy.asin(sy.sin(phi2)): phi2, sy.asin(sy.sin(phi1)): phi1, sy.acos(-sy.cos(phi1)): phi1 + sy.pi,\n",
      "           sy.acos(-sy.cos(Phi)): Phi + sy.pi, sy.acos(-sy.sin(phi1)): -sy.pi / 2 - phi1}\n",
      "cos_sub = {(sy.cos(Phi) - 1.0)*(sy.cos(Phi) + 1.0):-sy.sin(Phi)**2}\n",
      "for i in tmp_array:\n",
      "    tmp = cubic_sols[i]\n",
      "#     print tmp\n",
      "    print cubic_sym[..., i]\n",
      "    print ''\n",
      "    tmp_subss = [sy.simplify(tmp[j].subs(cos_sub)).subs(arcsubs) for j in np.arange(3)]\n",
      "    print tmp_subss\n",
      "    print ''\n",
      "'''"
     ],
     "language": "python",
     "metadata": {},
     "outputs": [
      {
       "metadata": {},
       "output_type": "pyout",
       "prompt_number": 56,
       "text": [
        "\"\\ntmp_array = np.array([0, 1, 4, 5, 8, 10, 12, 14])\\ntmp_array = np.arange(24)\\narcsubs = {sy.acos(sy.cos(Phi)): Phi, sy.asin(1.0*sy.sin(phi1)): phi1, sy.asin(1.0*sy.sin(phi2)): phi2,\\n           sy.asin(sy.sin(phi2)): phi2, sy.asin(sy.sin(phi1)): phi1, sy.acos(-sy.cos(phi1)): phi1 + sy.pi,\\n           sy.acos(-sy.cos(Phi)): Phi + sy.pi, sy.acos(-sy.sin(phi1)): -sy.pi / 2 - phi1}\\ncos_sub = {(sy.cos(Phi) - 1.0)*(sy.cos(Phi) + 1.0):-sy.sin(Phi)**2}\\nfor i in tmp_array:\\n    tmp = cubic_sols[i]\\n#     print tmp\\n    print cubic_sym[..., i]\\n    print ''\\n    tmp_subss = [sy.simplify(tmp[j].subs(cos_sub)).subs(arcsubs) for j in np.arange(3)]\\n    print tmp_subss\\n    print ''\\n\""
       ]
      }
     ],
     "prompt_number": 56
    },
    {
     "cell_type": "code",
     "collapsed": false,
     "input": [
      "#Tmp cell - Check matrices for Nans\n",
      "\n",
      "'''\n",
      "ans = []\n",
      "\n",
      "arcsubs = {sy.acos(sy.cos(Phi)): Phi, sy.asin(1.0*sy.sin(phi1)): phi1, sy.asin(1.0*sy.sin(phi2)): phi2,\n",
      "           sy.asin(sy.sin(phi2)): phi2, sy.asin(sy.sin(phi1)): phi1, sy.acos(-sy.cos(phi1)): phi1 + sy.pi,\n",
      "           sy.acos(-sy.cos(Phi)): Phi + sy.pi, sy.acos(-sy.sin(phi1)): -sy.pi / 2 - phi1}\n",
      "cos_sub = {(sy.cos(Phi) - 1.0)*(sy.cos(Phi) + 1.0):-sy.sin(Phi)**2}\n",
      "print len(cubic_sols)\n",
      "for i in range(len(cubic_sols)):\n",
      "    anssubs = {a: cubic_sols[i][0], b: cubic_sols[i][1], c: cubic_sols[i][2]}\n",
      "    # print anssubs\n",
      "    tmpsubs = anssubs.copy()\n",
      "    tmpsubs.update(arcsubs)\n",
      "    tmpsubs.update(cos_sub)\n",
      "#     print tmpsubs\n",
      "    tmp = system.subs(anssubs)\n",
      "    # print tmp\n",
      "    ans.append(tmp.subs({phi1:0., Phi:0., phi2:0.}))\n",
      "print ans\n",
      "'''"
     ],
     "language": "python",
     "metadata": {},
     "outputs": [
      {
       "metadata": {},
       "output_type": "pyout",
       "prompt_number": 57,
       "text": [
        "'\\nans = []\\n\\narcsubs = {sy.acos(sy.cos(Phi)): Phi, sy.asin(1.0*sy.sin(phi1)): phi1, sy.asin(1.0*sy.sin(phi2)): phi2,\\n           sy.asin(sy.sin(phi2)): phi2, sy.asin(sy.sin(phi1)): phi1, sy.acos(-sy.cos(phi1)): phi1 + sy.pi,\\n           sy.acos(-sy.cos(Phi)): Phi + sy.pi, sy.acos(-sy.sin(phi1)): -sy.pi / 2 - phi1}\\ncos_sub = {(sy.cos(Phi) - 1.0)*(sy.cos(Phi) + 1.0):-sy.sin(Phi)**2}\\nprint len(cubic_sols)\\nfor i in range(len(cubic_sols)):\\n    anssubs = {a: cubic_sols[i][0], b: cubic_sols[i][1], c: cubic_sols[i][2]}\\n    # print anssubs\\n    tmpsubs = anssubs.copy()\\n    tmpsubs.update(arcsubs)\\n    tmpsubs.update(cos_sub)\\n#     print tmpsubs\\n    tmp = system.subs(anssubs)\\n    # print tmp\\n    ans.append(tmp.subs({phi1:0., Phi:0., phi2:0.}))\\nprint ans\\n'"
       ]
      }
     ],
     "prompt_number": 57
    },
    {
     "cell_type": "code",
     "collapsed": false,
     "input": [
      "# print ans[12]"
     ],
     "language": "python",
     "metadata": {},
     "outputs": [],
     "prompt_number": 58
    },
    {
     "cell_type": "markdown",
     "metadata": {},
     "source": [
      "#Symmetrize GSH"
     ]
    },
    {
     "cell_type": "code",
     "collapsed": false,
     "input": [
      "# Initiate Solutions\n",
      "\n",
      "def symGSH(l):\n",
      "    init_val = 0\n",
      "    l_length = 2 * l + 1\n",
      "    solSubs = {phi1:init_val, Phi:init_val, phi2:init_val}\n",
      "    fSubs = {phi1:init_val, Phi:init_val, phi2:init_val}\n",
      "    nu = len(cubic_sols)\n",
      "    GSH_array = np.zeros((nu, l_length, l_length), dtype=complex)\n",
      "    tmp4 = np.zeros((nu, l_length, l_length), dtype=complex)\n",
      "    W = sy.Wild('w')\n",
      "    arcsubs = {sy.acos(sy.cos(Phi)): Phi, sy.asin(1.0*sy.sin(phi1)): phi1, sy.asin(1.0*sy.sin(phi2)): phi2,\n",
      "           sy.asin(sy.sin(phi2)): phi2, sy.asin(sy.sin(phi1)): phi1, sy.acos(-sy.cos(phi1)): phi1 - sy.pi,\n",
      "           sy.acos(-sy.cos(Phi)): Phi - sy.pi, sy.acos(-sy.sin(phi1)): -sy.pi / 2 - phi1,\n",
      "           sy.asin(sy.sqrt(sy.sin(phi1)**2)): phi1, sy.asin(sy.sqrt(sy.sin(phi2)**2)): phi2,\n",
      "           sy.acos(-sy.sqrt(sy.cos(phi1)**2)): phi1 - sy.pi, sy.acos(-sy.sqrt(sy.cos(phi2)**2)): phi2 - sy.pi,\n",
      "           sy.acos(sy.sqrt(sy.cos(phi1)**2)): phi1, sy.acos(sy.sqrt(sy.cos(phi2)**2)): phi2}\n",
      "    cos_sub = {(sy.cos(Phi) - 1.0)*(sy.cos(Phi) + 1.0):-sy.sin(Phi)**2}\n",
      "    for sol in range(len(cubic_sols)):\n",
      "        solSubs[phi1], solSubs[Phi], solSubs[phi2] = tmp_cubic_sols[sol][0], tmp_cubic_sols[sol][1], tmp_cubic_sols[sol][2]\n",
      "        for n in range(-l,l+1):\n",
      "            for s in range(-l,l+1):\n",
      "                index = (sol, s+l, n+l)\n",
      "                G_ = GSH(l,s,n,phi1,Phi,phi2)\n",
      "                tmp1 = G_.subs(solSubs)\n",
      "#                 print type(tmp1)\n",
      "#                 tmp1 = sy.cancel((GSH(l,s,n,phi1,Phi,phi2).subs(solSubs)).rewrite(sy.exp))\n",
      "#                 tmp1 = GSH(l,s,n,phi1,Phi,phi2).subs(solSubs)\n",
      "#                 tmp2 = sy.simplify(sy.cancel(tmp1.rewrite(sy.exp)))\n",
      "                tmp2 = tmp1.subs(fSubs)\n",
      "#                 print tmp2\n",
      "#                 if math.isnan(tmp2):\n",
      "#                     print G_\n",
      "#                     print ''\n",
      "#                     print tmp1\n",
      "#                     print ''\n",
      "#                     print tmp1.subs(arcsubs)\n",
      "#                     print ''\n",
      "#                 tmp3 = tmp2.subs(fSubs).evalf()\n",
      "#                 if not isinstance(tmp2, complex):\n",
      "#                 if tmp1 != 0:\n",
      "#                     print tmp3\n",
      "#                     print GSH(l,s,n,phi1,Phi,phi2).subs(solSubs)\n",
      "#                     print ''\n",
      "#                 print tmp3\n",
      "                tmp4[index] = tmp2\n",
      "#                 if isinstance(tmp2, (int, long, float, complex)):\n",
      "#                     tmp3[index] = tmp2.subs(fSubs).evalf()\n",
      "#                 else:\n",
      "#                     print tmp2\n",
      "#                     tmp3[index] = tmp2\n",
      "#                 if tmp2 != 0:\n",
      "#                     print tmp1\n",
      "#                     print ''\n",
      "#                 GSH_array[index] = (((GSH(l,s,n,phi1,Phi,phi2)).subs(solSubs)).subs(cos_sub).subs(fSubs).evalf()) - sy.KroneckerDelta(s,n)\n",
      "#     return GSH_array.reshape(nu * l_length,l_length)\n",
      "    print type(tmp2)\n",
      "    return tmp4.reshape(nu * l_length,l_length)"
     ],
     "language": "python",
     "metadata": {},
     "outputs": [],
     "prompt_number": 20
    },
    {
     "cell_type": "code",
     "collapsed": false,
     "input": [
      "l = 2\n",
      "T = symGSH(l)\n",
      "# print T.shape\n",
      "# print T"
     ],
     "language": "python",
     "metadata": {},
     "outputs": [
      {
       "output_type": "stream",
       "stream": "stdout",
       "text": [
        "<class 'sympy.core.mul.Mul'>\n"
       ]
      }
     ],
     "prompt_number": 21
    },
    {
     "cell_type": "code",
     "collapsed": false,
     "input": [
      "print np.round(T[:9, :9], decimals=3)"
     ],
     "language": "python",
     "metadata": {},
     "outputs": [
      {
       "output_type": "stream",
       "stream": "stdout",
       "text": [
        "[[  1. +0.j  nan+nanj  nan+nanj   0. +0.j   0. +0.j]\n",
        " [  0. +0.j   1. +0.j  nan+nanj  nan+nanj   0. +0.j]\n",
        " [  0. +0.j   0. +0.j   1. +0.j  nan+nanj   0. +0.j]\n",
        " [  0. +0.j   0. +0.j   0. +0.j   1. +0.j   0. +0.j]\n",
        " [  0. +0.j   0. +0.j   0. +0.j   0. +0.j   1. +0.j]\n",
        " [  0. +0.j   0. +0.j   0. +0.j   0. +0.j   1. -0.j]\n",
        " [  0. +0.j   0. +0.j   0. +0.j  -1. +0.j   0. +0.j]\n",
        " [  0. +0.j   0. +0.j   1. +0.j  nan+nanj   0. +0.j]\n",
        " [  0. +0.j  -1. -0.j   0. +0.j  nan+nanj   0. +0.j]]\n"
       ]
      }
     ],
     "prompt_number": 22
    },
    {
     "cell_type": "code",
     "collapsed": false,
     "input": [
      "'''\n",
      "[[  1. +0.j  nan+nanj  nan+nanj   0. +0.j   0. +0.j]\n",
      " [  0. +0.j   1. +0.j  nan+nanj  nan+nanj   0. +0.j]\n",
      " [  0. +0.j   0. +0.j   1. +0.j  nan+nanj   0. +0.j]\n",
      " [  0. +0.j   0. +0.j   0. +0.j   1. +0.j   0. +0.j]\n",
      " [  0. +0.j   0. +0.j   0. +0.j   0. +0.j   1. +0.j]\n",
      " [  0. +0.j   0. +0.j   0. +0.j   0. +0.j   1. +0.j]\n",
      " [  0. +0.j   0. +0.j   0. +0.j  -1. -0.j   0. +0.j]\n",
      " [  0. +0.j   0. +0.j   1. +0.j  nan+nanj   0. +0.j]\n",
      " [  0. +0.j  -1. +0.j   0. +0.j  nan+nanj   0. +0.j]]\n",
      "'''"
     ],
     "language": "python",
     "metadata": {},
     "outputs": [
      {
       "metadata": {},
       "output_type": "pyout",
       "prompt_number": 62,
       "text": [
        "'\\n[[  1. +0.j  nan+nanj  nan+nanj   0. +0.j   0. +0.j]\\n [  0. +0.j   1. +0.j  nan+nanj  nan+nanj   0. +0.j]\\n [  0. +0.j   0. +0.j   1. +0.j  nan+nanj   0. +0.j]\\n [  0. +0.j   0. +0.j   0. +0.j   1. +0.j   0. +0.j]\\n [  0. +0.j   0. +0.j   0. +0.j   0. +0.j   1. +0.j]\\n [  0. +0.j   0. +0.j   0. +0.j   0. +0.j   1. +0.j]\\n [  0. +0.j   0. +0.j   0. +0.j  -1. -0.j   0. +0.j]\\n [  0. +0.j   0. +0.j   1. +0.j  nan+nanj   0. +0.j]\\n [  0. +0.j  -1. +0.j   0. +0.j  nan+nanj   0. +0.j]]\\n'"
       ]
      }
     ],
     "prompt_number": 62
    },
    {
     "cell_type": "code",
     "collapsed": false,
     "input": [],
     "language": "python",
     "metadata": {},
     "outputs": [],
     "prompt_number": 62
    }
   ],
   "metadata": {}
  }
 ]
}