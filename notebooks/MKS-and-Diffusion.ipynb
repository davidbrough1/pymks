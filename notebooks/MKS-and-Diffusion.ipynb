{
 "metadata": {
  "name": "",
  "signature": "sha256:1758c57680f67c59eba96d3090a973abacafe92cabeffac132d5fa2182094a8e"
 },
 "nbformat": 3,
 "nbformat_minor": 0,
 "worksheets": [
  {
   "cells": [
    {
     "cell_type": "markdown",
     "metadata": {},
     "source": [
      "##The Cahn-Hilliard Equation as an Inhomogeneous Diffusion Equation\n",
      "\n",
      "####Perturbation from Average Concentration \n",
      "\n",
      "Let's assume that we are looking at a concentration field that is represented by a function $\\phi (x,t)$ which provides the local concentration field at location $x$ and time $t$. This concentration can be set equal to a linear combination of an average concentration $\\bar{\\phi}$ and a local perturbation from that average concentration $\\phi'(x,t)$ at location $x$ and time $t$ as shown below.\n",
      "\n",
      "$$ \\phi(x,t) = \\bar{\\phi} + \\phi'(x,t) $$"
     ]
    },
    {
     "cell_type": "markdown",
     "metadata": {},
     "source": [
      "####Anisotropic Diffusion Equation \n",
      "\n",
      "The anisotropic diffusion equation has the following form. \n",
      "\n",
      "$$ \\frac{\\partial \\phi(x,t)}{\\partial t} = \\nabla \\cdot \\Big [ D(\\phi, x) \\nabla \\phi(x, t) \\Big] $$\n",
      "\n",
      "$\\phi$ is the concentration and $D(\\phi, x)$ is the diffusivity at location location $x$ given $\\phi$."
     ]
    },
    {
     "cell_type": "markdown",
     "metadata": {},
     "source": [
      "####Anistropic Diffusion Equation with Perturbations.\n",
      "\n",
      "Let's substitute the local perturbation definition of the concentration into the diffusion equation and add a simular term for the diffusivity, and remove all terms that equal zero.\n",
      "\n",
      "$$ D(\\phi, x) = \\bar{D} + D'(\\phi, x)$$\n",
      "\n",
      "$$ \\frac{\\partial [\\bar{\\phi} + \\phi'(x,t)]}{\\partial t} = \\nabla \\cdot \\Big [ (\\bar{D} + D'(\\phi, x)) (\\nabla \\bar{\\phi} + \\nabla \\phi'(x,t)) \\Big] $$"
     ]
    },
    {
     "cell_type": "markdown",
     "metadata": {},
     "source": [
      "$$ \\frac{\\partial \\phi'(x,t)}{\\partial t} = \\nabla \\cdot \\Big [ \\bar{D} \\nabla \\phi'(x,t) + D'(\\phi, x) \\nabla \\phi'(x,t) \\Big] $$"
     ]
    },
    {
     "cell_type": "markdown",
     "metadata": {},
     "source": [
      "$$ \\frac{\\partial \\phi'(x,t)}{\\partial t} = \\bar{D} \\nabla^2 \\phi'(x,t) + \\nabla \\cdot D'(\\phi, x) \\nabla \\phi'(x,t) + D'(\\phi, x) \\nabla^2 \\phi'(x,t) $$"
     ]
    },
    {
     "cell_type": "markdown",
     "metadata": {},
     "source": [
      "The equation above can be rearranged to take the form of an inhomogenous diffusion equation."
     ]
    },
    {
     "cell_type": "markdown",
     "metadata": {},
     "source": [
      "$$ \\frac{\\partial \\phi'(x,t)}{\\partial t} - \\bar{D} \\nabla^2 \\phi'(x,t) = \\nabla \\cdot \\Big [ D'(\\phi, x) \\nabla \\phi'(x,t)\\Big ] $$"
     ]
    },
    {
     "cell_type": "markdown",
     "metadata": {},
     "source": [
      "Now let the right hand side of the equation above represent an inhomogenous term $f$ to a diffusion equation, \n",
      "\n",
      "$$ f(x, t) = \\nabla \\cdot \\Big [ D'(\\phi, x) \\nabla \\phi'(x,t)\\Big ] $$\n",
      "\n",
      "\n",
      "Using these definitions, the perturbed diffusion equation can be cast in terms of a inhomogenous diffusion equation.\n",
      "\n",
      "$$ \\frac{\\partial  \\phi'(x, t)}{\\partial t} -  \\bar{D} \\nabla^2 \\phi'(x, t) = f(x, t)$$"
     ]
    },
    {
     "cell_type": "markdown",
     "metadata": {},
     "source": [
      "####Green's Functions\n",
      "\n",
      "A green's function is a powerful method to solve linear inhomogenous differential equation. A green's function is mathematically define as function that when operated on with a linear operator, equals a delta function. Below is an example using the diffusion operator.\n",
      "\n",
      "$$ \\frac{\\partial G(x-x',t-t')}{\\partial t} - \\bar D\\nabla_x^2 G(x-x',t-t')  = \\delta(x-x') \\delta(t-t') $$"
     ]
    },
    {
     "cell_type": "markdown",
     "metadata": {},
     "source": [
      "The convolution of a green's function with an inhomogenous term gives the solution to the differential equation. This can be proven by first showing that a convolution with the left hand side of the equation above and an inhomogenous term $f(x', t')$ recovers the inhomogenous term.\n",
      "\n",
      "$$ \\int_0^t \\int_V \\Big [\\frac{\\partial G(x - x',t - t')}{\\partial t} - \\bar D\\nabla_x^2 G(x - x', t - t') \\Big ]f(x',t') dx' dt' = \\int_0^t \\int_V \\delta(x-x')\\delta(t - t') f(x', t')dx' dt' = f(x, t)$$\n",
      "\n",
      "By substituing the convolution expression for the inhomogenous term we get the following equation.\n",
      "\n",
      "$$ \\frac{\\partial \\phi'}{\\partial t} - \\bar D\\nabla_x^2 \\phi' = \\int_0^t \\int_V \\Big [\\frac{\\partial G(x - x',t - t')}{\\partial t} - \\bar D\\nabla_x^2 G(x - x', t - t') \\Big ]f(x',t') dx' dt' $$\n",
      "\n",
      "Because the diffusion operator differientates with respect to $t$ and $x$ and the integral is with respect to $t'$ and $x'$, the operator can be pulled out of the integral.\n",
      "\n",
      "$$ \\Bigg[ \\frac{\\partial }{\\partial t} - \\bar D\\nabla_x^2 \\Bigg] \\phi' = \\Bigg[ \\frac{\\partial }{\\partial t} - \\bar D\\nabla_x^2 \\Bigg]  \\int_0^t \\int_V G(x - x',t - t') f(x',t') dx' dt' $$\n",
      "\n",
      "By removing the diffusion operator, we get an equation that relates the concentration $\\phi'$ to a convolution with the green's function and an inhomogenous term.\n",
      "\n",
      "$$ \\phi' =  \\int_0^t \\int_V G(x - x',t - t') f(x',t') dx' dt' $$\n",
      "\n",
      "If the initial conditions are inhomogenous, an additional term can be added to provide that information.\n",
      "\n",
      "$$ \\phi' =  \\int_V G(x - x',t) \\phi(x', 0) dx' + \\int_0^t \\int_V G(x - x',t - t') f(x',t') dx' dt' $$"
     ]
    },
    {
     "cell_type": "markdown",
     "metadata": {},
     "source": [
      "####Integeration by Parts\n",
      "\n",
      "The solution to the equation above can be found in terms of a green's function. The general solution for the concentration $\\phi(x,t)$ has the following form.\n",
      "\n",
      "$$ \\phi'(x, t) =  \\int_V G(x - x',t) \\phi(x', 0) dx' + \\int_0^t \\int_V G(x - x',t - t') f(x',t') dx' dt' $$\n",
      "\n",
      "$$ \\phi'(x, t) =  \\int_V G(x - x',t) \\phi(x', 0) dx' +  \\int_0^t \\int_V G(x - x',t - t')\\Big( \\nabla_x \\cdot \\Big [ D'(\\phi, x) \\nabla_x \\phi'(x,t)\\Big ] \\Big ) dx' dt' $$\n",
      "\n",
      "The $\\nabla_x $ operator can be moved from the terms containing $\\phi$ to the green's function by using integration by parts and assuming periodic boundary conditions.\n",
      "\n",
      "$$ \\phi'(x, t) =  \\int_V G(x - x',t) \\phi(x', 0) dx' -  \\int_0^t \\int_V \\nabla_x \\cdot G(x - x',t - t')\\Big( D'(\\phi, x) \\nabla_x \\phi'(x,t)\\Big ) dx' dt' $$\n",
      "\n",
      "$$ \\phi'(x, t) =  \\int_V G(x - x',t) \\phi(x', 0) dx' -  \\int_0^t \\int_V \\nabla_x \\Big ( \\nabla_x \\cdot G(x - x',t - t') D'(\\phi, x) \\Big ) \\phi'(x,t) dx' dt' $$"
     ]
    },
    {
     "cell_type": "markdown",
     "metadata": {},
     "source": [
      "####Kroner's Expansion\n",
      "\n",
      "By take the definition of $\\phi'$ and substituing it back into the right side for it self, we can create a series expansion. Let's first collect terms by powers of $\\phi'$."
     ]
    }
   ],
   "metadata": {}
  }
 ]
}