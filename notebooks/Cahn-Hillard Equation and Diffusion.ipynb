{
 "metadata": {
  "name": "",
  "signature": "sha256:8cd4e77fa419c787a44708778be7df3af580f09cb71028d10defed6103b6e1e6"
 },
 "nbformat": 3,
 "nbformat_minor": 0,
 "worksheets": [
  {
   "cells": [
    {
     "cell_type": "markdown",
     "metadata": {},
     "source": [
      "##The Cahn-Hilliard Equation \n",
      "\n",
      "####Reference Medium \n",
      "\n",
      "Let's first assume that we are looking at a function $\\phi (x,t)$ that represents the concentration of a phase of interest at location $x$ and and time $t$. This concentration can be set equal to a linear combination of an average concentration $\\bar{\\phi}$ (also known as the reference medium) and a local perturbation from that average concentration $\\phi'(x,t)$ at location $x$ and time $t$ as shown below.\n",
      "\n",
      "$$ \\phi(x,t) = \\bar{\\phi} + \\phi'(x,t) $$\n",
      "\n"
     ]
    },
    {
     "cell_type": "markdown",
     "metadata": {},
     "source": [
      "####Cahn-Hilliard Equation \n",
      "\n",
      "The Cahn-Hilliard equation has the following form. \n",
      "\n",
      "$$ \\frac{\\partial \\phi(x,t)}{\\partial t} = \\nabla \\cdot D \\nabla \\Big(\\frac{\\partial f(\\phi(x,t))}{\\partial \\phi} + \\nabla^2 \\epsilon^2 \\phi(x,t) \\Big) $$\n",
      "\n",
      "Where  $D$ is the diffusion coefficient, $f(\\phi(x,t))$ is the free energy function, and $\\epsilon$ is the  length of interface region. $f(\\phi(x, t))$ is a double well potential and can be represented as a fourth-order polynomial.\n",
      "\n",
      "$$ f(\\phi(x,t)) = \\frac{a^2}{2}\\phi(x,t)^2(1 - \\phi(x,t)^2) $$\n",
      "\n",
      "where $F$ is the magnitude of the energy barrier. By substituting the fourth-order polynomial in for the free energy function and assuming that $D$, $\\epsilon^2$ and $a$ are constants, the Cahn-Hilliard equation takes the following form.\n",
      "\n",
      "$$ \\frac{\\partial \\phi(x,t)}{\\partial t} = D\\nabla^2 \\Big(a^2 \\big[\\phi(x,t)(1 - 2 \\phi(x, t)^2 \\big] + \\epsilon^2 \\nabla^2 \\phi(x,t) \\Big) $$\n"
     ]
    },
    {
     "cell_type": "markdown",
     "metadata": {},
     "source": [
      "####Cahn-Hilliard Equation as an Inhomogeneous Diffusion Equation\n",
      "\n",
      "Substituting in the concentration in terms of the average concentration and the local perturbation we get the following equation.\n",
      "\n",
      "$$ \\frac{\\partial (\\bar{\\phi} + \\phi')}{\\partial t} = D\\nabla^2 \\Big(a^2 \\big[(\\bar{\\phi} + \\phi') (1 - (\\bar{\\phi} + \\phi')^2\\big] + \\epsilon^2\\nabla^2  (\\bar{\\phi} + \\phi') \\Big) $$"
     ]
    },
    {
     "cell_type": "markdown",
     "metadata": {},
     "source": [
      "$$ \\frac{\\partial  \\phi'}{\\partial t} = D\\nabla^2 \\Big(a^2 \\big[ \\phi' - 3 (\\phi' \\bar{\\phi}^2 + \\phi'^2 \\bar{\\phi}) -\\phi'^3 \\big] + \\epsilon^2\\nabla^2  \\phi' \\Big) $$"
     ]
    },
    {
     "cell_type": "markdown",
     "metadata": {},
     "source": [
      "$$ \\frac{\\partial  \\phi'}{\\partial t} - D a^2 \\nabla^2 \\phi' = D \\nabla^2 \\Big ( \\epsilon^2\\nabla^2  \\phi' -  a^2 \\big[ 3\\phi' \\bar{\\phi}^2 + 3\\phi'^2 \\bar{\\phi} -\\phi'^3\\big ] \\Big ) $$"
     ]
    },
    {
     "cell_type": "markdown",
     "metadata": {},
     "source": [
      "Let \n",
      "\n",
      "$$ f(x, t) = D \\nabla^2 \\Big ( \\epsilon^2\\nabla^2  \\phi'(x, t) -  a^2 \\big [3\\phi'(x, t) \\bar{\\phi}^2 + 3\\phi'(x, t)^2 \\bar{\\phi} -\\phi'(x, t)^3\\big ] \\Big )$$\n",
      "\n",
      "and\n",
      "\n",
      "$$\\tilde D = D a^2$$\n",
      "\n",
      "therefore \n",
      "\n",
      "$$ \\frac{\\partial  \\phi'}{\\partial t} - \\tilde D \\nabla^2 \\phi' = f$$"
     ]
    },
    {
     "cell_type": "markdown",
     "metadata": {},
     "source": [
      "####Green's Functions\n",
      "\n",
      "A green's function is a powerful method to solve linear inhomogenous differential equation. A green's function is mathematically define as function that when operated on with a linear operator, equals a delta function. Below is an example using the diffusion operator.\n",
      "\n",
      "$$ \\frac{\\partial G(x-x',t-t')}{\\partial t} - \\tilde D\\nabla_x^2 G(x-x',t-t')  = \\delta(x-x') \\delta(t-t') $$"
     ]
    },
    {
     "cell_type": "markdown",
     "metadata": {},
     "source": [
      "\n",
      "The convolution of a green's function with an inhomogenous term gives the solution to the differential equation. This can be proven by first showing that a convolution with the left hand side of the equation above and an inhomogenous term $f(x', t')$ recovers the inhomogenous term.\n",
      "\n",
      "$$ \\int_0^t \\int_V \\Big [\\frac{\\partial G(x - x',t - t')}{\\partial t} - \\tilde D\\nabla_x^2 G(x - x', t - t') \\Big ]f(x',t') dx' dt' = \\int_0^t \\int_V \\delta(x-x')\\delta(t - t') f(x', t')dx' dt' = f(x, t)$$\n",
      "\n",
      "By substituing the convolution expression for the inhomogenous term we get the following equation.\n",
      "\n",
      "$$ \\frac{\\partial \\phi'}{\\partial t} - \\tilde D\\nabla_x^2 \\phi' = \\int_0^t \\int_V \\Big [\\frac{\\partial G(x - x',t - t')}{\\partial t} - \\tilde D\\nabla_x^2 G(x - x', t - t') \\Big ]f(x',t') dx' dt' $$\n",
      "\n",
      "Because the diffusion operator differientates with respect to $t$ and $x$ and the integral is with respect to $t'$ and $x'$, the operator can be pulled out of the integral.\n",
      "\n",
      "$$ \\Bigg[ \\frac{\\partial }{\\partial t} - \\tilde D\\nabla_x^2 \\Bigg] \\phi' = \\Bigg[ \\frac{\\partial }{\\partial t} - \\tilde D\\nabla_x^2 \\Bigg]  \\int_0^t \\int_V G(x - x',t - t') f(x',t') dx' dt' $$\n",
      "\n",
      "Drop the diffusion operator and get an equation that relates the concentration $\\phi'$ to a convolution with the green's function and an inhomogenous term.\n",
      "\n",
      "$$ \\phi' =  \\int_0^t \\int_V G(x - x',t - t') f(x',t') dx' dt' $$\n",
      "\n",
      "If the initial conditions are inhomogenous, an additional term can be added to provide that information.\n",
      "\n",
      "$$ \\phi' =  \\int_V G(x - x',t) \\phi(x', 0) dx' + \\int_0^t \\int_V G(x - x',t - t') f(x',t') dx' dt' $$\n"
     ]
    },
    {
     "cell_type": "markdown",
     "metadata": {},
     "source": [
      "####Integeration by Parts\n",
      "\n",
      "The solution to the equation above can be found in terms of a green's function. The general solution for the concentration $\\phi(x,t)$ has the following form.\n",
      "\n",
      "$$ \\phi'(x, t) =  \\int_V G(x - x',t) \\phi(x', 0) dx' + \\int_0^t \\int_V G(x - x',t - t') f(x',t') dx' dt' $$\n",
      "\n",
      "$$ \\phi'(x, t) =  \\int_V G(x - x',t) \\phi(x', 0) dx' +  \\int_0^t \\int_V G(x - x',t - t') D \\nabla_x^2 \\Big ( \\epsilon^2\\nabla_x^2  \\phi'(x', t') -  a^2 \\big [3\\phi'(x', t') \\bar{\\phi}^2 + 3\\phi'(x', t')^2 \\bar{\\phi} -\\phi'(x', t')^3\\big ] \\Big ) dx' dt' $$\n",
      "\n",
      "The $\\nabla^2$ operator can be moved from the terms containing $\\phi$ to the green's function by using integration by parts and assuming periodic boundary conditions.\n",
      "\n",
      "$$ \\phi'(x, t) =  \\int_V G(x - x',t) \\phi(x', 0) dx' +  \\int_0^t \\int_V \\nabla_x^4 G(x - x',t - t') D  \\epsilon^2 \\phi'(x', t') - \\nabla_x^2 G(x - x',t - t') D  \\Big ( a^2 \\big [3\\phi'(x', t') \\bar{\\phi}^2 + 3\\phi'(x', t')^2 \\bar{\\phi} -\\phi'(x', t')^3\\big ] \\Big ) dx' dt' $$\n"
     ]
    },
    {
     "cell_type": "markdown",
     "metadata": {},
     "source": [
      "####Kroner's Expansion\n",
      "\n",
      "By take the definition of $\\phi'$ and substituing it back into the right side for it self, we get the following expansion.\n",
      "\n",
      "$$ \\phi'(x, t) =  \\int_V G(x - x',t) \\phi(x', 0) dx' +  \\int_0^t \\int_V \\nabla_x^4 G(x - x',t - t') D  \\epsilon^2 \\phi'(x', t') - \\nabla_x^2 G(x - x',t - t') D  \\Big ( a^2 \\big [3\\phi'(x', t') \\bar{\\phi}^2 + 3\\phi'(x', t')^2 \\bar{\\phi} -\\phi'(x', t')^3\\big ] \\Big ) dx' dt' $$\n",
      "\n",
      "\n"
     ]
    },
    {
     "cell_type": "markdown",
     "metadata": {},
     "source": [
      "\\begin{eqnarray} \\phi'(x, t) = && \\int_V G(x - x',t) \\phi(x', 0) dx' + \\int_0^t \\int_V D \\Big[\\nabla_x^4 G(x - x',t - t')   \\epsilon^2 - 3 a^2 \\bar{\\phi}^2 \\nabla_x^2 G(x - x',t - t') \\Big ] \\phi'(x', t') dx' dt' - \\\\&& \\int_0^t \\int_V 3 D \\bar{\\phi} a^2 \\nabla_x^2 G(x - x',t - t')  \\phi'(x', t')^2 dx' dt' -  \\int_0^t \\int_V D a^2 \\nabla_x^2 G(x - x',t - t') \\phi'(x', t')^3 dx' dt' \\end{eqnarray}"
     ]
    },
    {
     "cell_type": "markdown",
     "metadata": {},
     "source": [
      "Let \n",
      "\n",
      "$$A(x - x',t) = G(x - x',t)$$\n",
      "$$B(x - x', t - t') = D \\Big[\\nabla_x^4 G(x - x',t - t')   \\epsilon^2 - 3 a^2 \\bar{\\phi}^2 \\nabla_x^2 G(x - x',t - t') \\Big ]$$\n",
      "$$C(x - x', t - t') = 3 D \\bar{\\phi} a^2 \\nabla_x^2 G(x - x',t - t') $$\n",
      "$$E(x - x', t - t') = D  a^2 \\nabla_x^2 G(x - x',t - t')$$"
     ]
    },
    {
     "cell_type": "markdown",
     "metadata": {},
     "source": [
      "$$ \\phi'(x, t) =  \\int_V A(x - x',t) \\phi(x', 0) dx' +  \\int_V \\int_0^t B(x - x', t - t') \\phi'(x', t') dx' dt' - \\int_V \\int_0^t  C(x - x', t - t')  \\phi'(x', t')^2 dx' dt' - \\int_V \\int_0^t  E(x - x',t - t') \\phi'(x', t')^3 dx' dt' $$"
     ]
    },
    {
     "cell_type": "markdown",
     "metadata": {},
     "source": [
      "\\begin{eqnarray} \\phi'(x, t) = && \\int_V A(x - x',t) \n",
      "\\phi(x', 0) dx'\n",
      "+ \\\\&& \\int_V \\int_0^t B(x - x', t - t') \\Bigg [\n",
      "\\Bigg ( \\int_V A(x' - x'',t) \n",
      "\\phi(x'', 0) dx''\n",
      "+ \\int_V \\int_0^t B(x' - x'', t' - t'') \n",
      "\\phi'(x'', t'') \n",
      "dx'' dt'' - \\int_V \\int_0^t  C(x' - x'', t' - t'')  \n",
      "\\phi'(x'', t'')^2 \n",
      "dx'' dt'' - \\int_V \\int_0^t  E(x' - x'',t' - t'') \n",
      "\\phi'(x'', t'')^3 \n",
      "dx'' dt'' \\Bigg )\n",
      "\\Bigg ]dx' dt' - \\\\&& \\int_V \\int_0^t  C(x - x', t - t') \\Bigg [  \n",
      "\\Bigg ( \\int_V A(x' - x'',t) \n",
      "\\phi(x'', 0) dx''\n",
      "+  \\int_V \\int_0^t B(x' - x'', t' - t'') \n",
      "\\phi'(x'', t'') \n",
      "dx'' dt'' - \\int_V \\int_0^t  C(x' - x'', t' - t'')  \n",
      "\\phi'(x'', t'')^2 \n",
      "dx'' dt'' - \\int_V \\int_0^t  E(x' - x'',t' - t'') \n",
      "\\phi'(x'', t'')^3 \n",
      "dx'' dt'' \\Bigg )^2\n",
      "\\Bigg ]dx' dt' - \\\\ && \\int_V \\int_0^t  E(x - x',t - t')  \\Bigg [\n",
      "\\Bigg (\\int_V A(x' - x'',t) \n",
      "\\phi(x'', 0) dx''\n",
      "+  \\int_V \\int_0^t B(x' - x'', t' - t'') \n",
      "\\phi'(x'', t'') \n",
      "dx'' dt'' - \\int_V \\int_0^t  C(x' - x'', t' - t'')  \n",
      "\\phi'(x'', t'')^2 \n",
      "dx'' dt'' - \\int_V \\int_0^t  E(x' - x'',t' - t'') \n",
      "\\phi'(x'', t'')^3 \n",
      "dx'' dt'' \\Bigg )^3\n",
      "\\Bigg ] dx' dt' +... \\end{eqnarray}\n",
      "\n",
      "\n"
     ]
    },
    {
     "cell_type": "markdown",
     "metadata": {},
     "source": [
      "\\begin{eqnarray} \\phi'(x, t) = && \\int_V A(x - x',t) \n",
      "\\phi(x', 0) dx'\n",
      "+ \\int_0^t \\int_V \\Bigg (\n",
      "\\int_VA(x' - x'',t) \n",
      "\\phi(x'', 0) dx''\\Bigg )\n",
      " B(x - x', t - t')  dx' dt' - \\\\&&\n",
      "\\int_0^t \\int_V \\Bigg ( \\int_V A(x' - x'',t) \n",
      "\\phi(x'', 0) dx''\n",
      "\\Bigg )^2\n",
      "C(x - x', t - t') \n",
      "dx' dt' - \n",
      "\\int_0^t  \\int_V\n",
      "\\Bigg (\\int_V A(x' - x'',t) \n",
      "\\phi(x'', 0) dx'' \n",
      " \\Bigg )^3\n",
      "  E(x - x',t - t') \n",
      "dx' dt' + ...\\end{eqnarray}"
     ]
    },
    {
     "cell_type": "markdown",
     "metadata": {},
     "source": [
      "\\begin{eqnarray}| \\phi'(x, t) = && \\int_V A(x - x',t) \n",
      "\\phi(x', 0) dx'\n",
      "+ \\int_0^t \\int_V  \\int_V  B(x - x', t - t') \n",
      "A(x' - x'',t) \n",
      "\\phi(x'', 0) dx'' dx' dt' - \\\\&&\n",
      "\\int_0^t \\int_V  \\int_V \\int_V C(x - x', t - t')   \n",
      "A(x' - x'',t) \n",
      "\\phi(x'', 0) \n",
      "A(x' - x''',t) \n",
      "\\phi(x''', 0)dx''' dx''  dx' dt' - \\\\&&\n",
      "\\int_0^t \\int_V  \\int_V \\int_V \\int_V E(x - x',t - t')  \n",
      " A(x' - x'',t) \n",
      "\\phi(x'', 0)  \n",
      "A(x' - x''',t) \n",
      "\\phi(x''', 0) \n",
      "A(x' - x'''',t) \n",
      "\\phi(x'''', 0) dx'''' dx''' dx'' dx' dt' + ...\\end{eqnarray}\n"
     ]
    },
    {
     "cell_type": "markdown",
     "metadata": {},
     "source": [
      "Replacing $A$ $B$ $C$ and $E$ with their original definitions we get\n",
      "\n",
      "\\begin{eqnarray}  \\phi'(x, t) = && \\int_V \n",
      "G(x - x',t) \n",
      "\\phi(x', 0) dx'\n",
      "+ \\Bigg (\n",
      "\\int_V\n",
      "G(x - x'',t) \n",
      "\\phi(x'', 0) dx''\\Bigg )\n",
      "\\int_0^t \\int_V  \n",
      "D \\Big[\\nabla_x^4 G(x - x',t - t')   \\epsilon^2 - 3 a^2 \\bar{\\phi}^2 \\nabla_x^2 G(x - x',t - t') \\Big ] \n",
      "dx' dt' - \\\\ &&\n",
      "\\Bigg ( \\int_V \n",
      "G(x - x'',t) \n",
      "\\phi(x'', 0) dx''\n",
      "\\Bigg )^2\n",
      "\\int_0^t \\int_V  \n",
      "3 D \\bar{\\phi} a^2 \\nabla_x^2 G(x - x',t - t')\n",
      "dx' dt' -\n",
      "\\Bigg (\\int_V \n",
      "G(x - x'',t) \n",
      "\\phi(x'', 0) dx'' \n",
      " \\Bigg )^3\n",
      "\\int_0^t  \\int_V \n",
      "D  a^2 \\nabla_x^2 G(x - x',t - t') \n",
      "dx' dt' + ...\\end{eqnarray} \n"
     ]
    },
    {
     "cell_type": "markdown",
     "metadata": {},
     "source": [
      "\\begin{eqnarray} \\phi'(x, t) = && \\int_V \n",
      "G(x - x',t) \n",
      "\\phi(x', 0) dx'\n",
      "+ \\int_0^t \\int_V  \\int_V  \n",
      "D \\Big[\\nabla_x^4 G(x - x',t - t')   \\epsilon^2 - 3 a^2 \\bar{\\phi}^2 \\nabla_x^2 G(x - x',t - t') \\Big ] \n",
      "G(x' - x'',t) \n",
      "\\phi(x'', 0) dx'' dx' dt' - \\\\&&\n",
      "\\int_0^t \\int_V  \\int_V \\int_V \n",
      "3 D \\bar{\\phi} a^2 \\nabla_x^2 G(x - x',t - t')   \n",
      "G(x' - x'',t) \n",
      "G(x' - x''',t)\n",
      "\\phi(x'', 0)\n",
      "\\phi(x''', 0)dx''' dx''  dx' dt' - \\\\&&\n",
      "\\int_0^t \\int_V  \\int_V \\int_V \\int_V \n",
      "D  a^2 \\nabla_x^2 G(x - x',t - t')  \n",
      "G(x' - x'',t) \n",
      "G(x' - x''',t) \n",
      "G(x' - x'''',t)\n",
      "\\phi(x'', 0)\n",
      "\\phi(x''', 0) \n",
      "\\phi(x'''', 0) dx'''' dx''' dx'' dx' dt' + ...\\end{eqnarray}"
     ]
    },
    {
     "cell_type": "markdown",
     "metadata": {},
     "source": [
      "####Convergence Criteria \n",
      "\n",
      "$$\\int_V G(x - x',t) \\phi(x', 0) dx' < 1$$"
     ]
    },
    {
     "cell_type": "markdown",
     "metadata": {},
     "source": [
      "####Green's Function for Diffusion\n",
      "\n",
      "$$G(x - x', t) = \\Bigg (\\frac{1}{4 \\pi \\tilde D t} \\Bigg )^{3/2} exp\\Bigg (\\frac{-(x - x')^2}{4 \\tilde D t} \\Bigg)$$\n",
      "\n",
      "The green's function will have it largest magnitude at $t=0$.\n",
      "\n",
      "$\\lim_{t \\to 0} G(x - x', t) = \\delta(x - x')$\n",
      "\n",
      "$$\\int_V \\delta(x - x') \\phi(x', 0) dx' = \\phi(x, 0)$$\n",
      "\n",
      "$$\\phi(x, 0) < 1 $$"
     ]
    },
    {
     "cell_type": "code",
     "collapsed": false,
     "input": [],
     "language": "python",
     "metadata": {},
     "outputs": []
    }
   ],
   "metadata": {}
  }
 ]
}