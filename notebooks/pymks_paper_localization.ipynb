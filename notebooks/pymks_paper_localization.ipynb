{
 "cells": [
  {
   "cell_type": "code",
   "execution_count": 2,
   "metadata": {
    "collapsed": false
   },
   "outputs": [
    {
     "name": "stdout",
     "output_type": "stream",
     "text": [
      "The autoreload extension is already loaded. To reload it, use:\n",
      "  %reload_ext autoreload\n"
     ]
    }
   ],
   "source": [
    "import pymks \n",
    "\n",
    "%matplotlib inline\n",
    "%load_ext autoreload\n",
    "%autoreload 2"
   ]
  },
  {
   "cell_type": "markdown",
   "metadata": {},
   "source": [
    "# Prediction of Local Strain Field with Localization\n",
    "\n",
    "## Calibration Data Generation"
   ]
  },
  {
   "cell_type": "markdown",
   "metadata": {},
   "source": [
    "In this example the `MKSLocalizationModel` is used to predict\n",
    "the local strain field for a three phase microstructure with\n",
    "elastic moduli values of 80 MPa, 100 MPa and 120 MPa; Poisson's\n",
    "ratio values all equal to 0.3 and a macroscopic imposed strain\n",
    "equal to 0.02. The model is calibrated using delta microstructures\n",
    "(analogous to using a unit impulse response to find the kernel of\n",
    "a system in signal processing) [REF]. The the material parameters\n",
    "specified above are used in a finite element simulation using the\n",
    "`make_elasticFEstrain_delta` function from `pymks.datasets`. The\n",
    "number of Poisson's ratio and elastic moduli values indicates the\n",
    "number of phases."
   ]
  },
  {
   "cell_type": "code",
   "execution_count": 4,
   "metadata": {
    "collapsed": false
   },
   "outputs": [],
   "source": [
    "from pymks.datasets import make_elastic_FE_strain_delta\n",
    "import numpy as np\n",
    "\n",
    "n = 21\n",
    "n_phases = 3\n",
    "\n",
    "elastic_modulus = (80, 100, 120)\n",
    "poissons_ratio = (0.3, 0.3, 0.3)\n",
    "macro_strain = 0.02\n",
    "size = (n, n)\n",
    "\n",
    "X_delta, strains_delta = make_elastic_FE_strain_delta(\n",
    "    elastic_modulus=elastic_modulus,\n",
    "    poissons_ratio=poissons_ratio,\n",
    "    size=size, macro_strain=macro_strain)"
   ]
  },
  {
   "cell_type": "markdown",
   "metadata": {},
   "source": [
    "Delta microstructures are composed of only two phases with the\n",
    "center of the microstructure being a different phase from the rest.\n",
    "All permutations of thes delta microstructures and their associated\n",
    "strain fields $\\varepsilon_{xx}$ are needed to create calibrate the\n",
    "model. A delta microstructure and it's strain field can be visualized\n",
    "using `draw_microstructure_strain` from `pymks.tools`."
   ]
  },
  {
   "cell_type": "code",
   "execution_count": null,
   "metadata": {
    "collapsed": false
   },
   "outputs": [],
   "source": [
    "from pymks.tools import draw_microstructure_strain\n",
    "\n",
    "draw_microstructure_strain(X_delta[0], strains_delta[0])"
   ]
  },
  {
   "cell_type": "markdown",
   "metadata": {},
   "source": [
    "## Calibration of the Localization Model"
   ]
  },
  {
   "cell_type": "markdown",
   "metadata": {},
   "source": [
    "In order to make an instance of the `MKSHomogenizationModel`, an\n",
    "instance of a basis class must first be created to specify the\n",
    "discretization methods for the microstructure function (see Fig. REF).\n",
    "For this particular example, there are 3 discrete phases,\n",
    "therefore the `PrimitiveBasis` from `pymks.bases` will be used. The\n",
    "microstructure contains only two phases denoted by 0, 1 and 2, therefore\n",
    "we have three local states with a domain from 0 to 2. An instance of the\n",
    "`PrimitiveBasis` with these parameters can be used to create an instance\n",
    "of the `MKSHomgenizationModel` as follows. "
   ]
  },
  {
   "cell_type": "code",
   "execution_count": null,
   "metadata": {
    "collapsed": true
   },
   "outputs": [],
   "source": [
    "from pymks import MKSLocalizationModel\n",
    "from pymks import PrimitiveBasis\n",
    "\n",
    "p_basis =PrimitiveBasis(n_states=3, domain=[0, 2])\n",
    "model = MKSLocalizationModel(basis=p_basis)"
   ]
  },
  {
   "cell_type": "markdown",
   "metadata": {},
   "source": [
    "With the delta microstructures and their strain fields, the influence\n",
    "kernels can be calibrated using the `fit` method.\n",
    "\n",
    "A visualization of the influence kernels can be generated using the\n",
    "`draw_coeff` function from `pymks.tools`."
   ]
  },
  {
   "cell_type": "code",
   "execution_count": null,
   "metadata": {
    "collapsed": false
   },
   "outputs": [],
   "source": [
    "from pymks.tools import draw_coeff\n",
    "\n",
    "model.fit(X_delta, strains_delta)\n",
    "draw_coeff(model.coef_)"
   ]
  },
  {
   "cell_type": "markdown",
   "metadata": {},
   "source": [
    "## Prediction of the Strain Field for a Random Microstructure\n",
    "\n",
    "Our model is validated by comparing strain fields computed using\n",
    "a finite element simulation and our model. The `make_elasticFEstrain_random`\n",
    "function from `pymks.datasets` generates a random microstructure and\n",
    "its strain field results from finite element analysis."
   ]
  },
  {
   "cell_type": "code",
   "execution_count": null,
   "metadata": {
    "collapsed": false
   },
   "outputs": [],
   "source": [
    "from pymks.datasets import make_elastic_FE_strain_random\n",
    "\n",
    "np.random.seed(101)\n",
    "\n",
    "X, strain = make_elastic_FE_strain_random(\n",
    "    n_samples=1, elastic_modulus=elastic_modulus,\n",
    "    poissons_ratio=poissons_ratio, size=size,\n",
    "    macro_strain=macro_strain)\n",
    "\n",
    "draw_microstructure_strain(X[0] , strain[0])"
   ]
  },
  {
   "cell_type": "markdown",
   "metadata": {},
   "source": [
    "Localization model predicts the strain field by passing the\n",
    "microstructure to the `predict` method. A visualization of\n",
    "the two strain fields from both the localization model and\n",
    "finite element analysis can be created using\n",
    "`draw_strains_compare` from `pymks.tools`."
   ]
  },
  {
   "cell_type": "code",
   "execution_count": null,
   "metadata": {
    "collapsed": false
   },
   "outputs": [],
   "source": [
    "from pymks.tools import draw_strains_compare\n",
    "\n",
    "strain_pred = model.predict(X)\n",
    "draw_strains_compare(strain[0], strain_pred[0])"
   ]
  },
  {
   "cell_type": "code",
   "execution_count": null,
   "metadata": {
    "collapsed": true
   },
   "outputs": [],
   "source": []
  }
 ],
 "metadata": {
  "kernelspec": {
   "display_name": "Python 2",
   "language": "python",
   "name": "python2"
  },
  "language_info": {
   "codemirror_mode": {
    "name": "ipython",
    "version": 2
   },
   "file_extension": ".py",
   "mimetype": "text/x-python",
   "name": "python",
   "nbconvert_exporter": "python",
   "pygments_lexer": "ipython2",
   "version": "2.7.11"
  }
 },
 "nbformat": 4,
 "nbformat_minor": 0
}
