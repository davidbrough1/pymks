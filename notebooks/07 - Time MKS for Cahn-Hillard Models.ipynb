{
 "metadata": {
  "name": ""
 },
 "nbformat": 3,
 "nbformat_minor": 0,
 "worksheets": [
  {
   "cells": [
    {
     "cell_type": "markdown",
     "metadata": {},
     "source": [
      "#Time MKS\n",
      "\n",
      "##MKS for the Diffusion Equation\n",
      "\n",
      "Let's first assume that we are looking at a function $c(x,t)$ represents the concentration of a phase of interest at location $x$ and and time $t$. This concentration can be set equal to a linear combination of an average concentration $\\bar{c}$ (also known as the reference medium) and a local perturbation from that average concentration $c'(x,t)$ at location $x$ and time $t$ as shown below.\n",
      "\n",
      "$$ c(x,t) = \\bar{c} + c'(x,t) $$\n",
      "\n",
      "The local perturbation can be related to the average concentration using a localization tensor $a(x,t)$.\n",
      "\n",
      "$$ c'(x,t) = a(x,t)\\bar{c} $$\n",
      "\n",
      "The Cahn-Hilliard equation has the following form. \n",
      "\n",
      "$$ \\frac{\\partial c(x,t)}{\\partial t} = \\nabla \\cdot [D(c,x) \\nabla c(x,t))] $$\n",
      "\n",
      "Substituting in the concentration in terms of the average concentration and the local pertiubation, we get the following equation.\n",
      "\n",
      "\n"
     ]
    },
    {
     "cell_type": "markdown",
     "metadata": {},
     "source": [
      "##MKS for The Cahn-Hilliard Equation\n",
      "\n",
      "Let's first assume that we are looking at a function $c(x,t)$ represents the concentration of a phase of interest at location $x$ and and time $t$. This concentration can be set equal to a linear combination of an average concentration $\\bar{c}$ (also known as the reference medium) and a local perturbation from that average concentration $c'(x,t)$ at location $x$ and time $t$as shown below.\n",
      "\n",
      "$$ c(x,t) = \\bar{c} + c'(x,t) $$\n",
      "\n",
      "The local perturbation can be related to the average concentration using a localization tensor $a(x,t)$.\n",
      "\n",
      "$$ c'(x,t) = a(x,t)\\bar{c} $$\n",
      "\n",
      "The Cahn-Hilliard equation has the following form. \n",
      "\n",
      "$$ \\frac{\\partial c(x,t)}{\\partial t} = \\nabla^2 D \\Big(\\frac{df(c(x,t))}{dc}-\\nabla^2 \\gamma c(x,t) \\Big) $$\n",
      "\n",
      "Where  $D$ is the diffusion coefficient, $f(c(x,t))$ is the free energy function, and $\\sqrt{\\gamma}$ is the  length of interface region. $f(c(x))$ is a double well potential and can be represented as a fourth-order polynomial\n",
      "\n",
      "$$ f(c(x,t)) = 4F(c(x,t)^2 - 1)^2 $$\n",
      "\n",
      "where F is the magnitude of the energy barrier. By subtituting the fourth-order polynomial in for the free enegy function and assuming that $D$, $\\gamma$ and $F$ are constants in space, the Cahn-Hillard equation takes the following form.\n",
      "\n",
      "$$ \\frac{\\partial c(x,t)}{\\partial t} = D\\nabla^2 \\Big(16 F \\big(c(x,t)^3-c(x,t)\\big)-\\gamma \\nabla^2 c(x,t) \\Big) $$\n",
      "\n",
      "Subtiting in the concentration in terms of the average concentration and the local perturbation we get the following equation.\n",
      "\n",
      "$$ \\frac{\\partial (\\bar{c} + c'(x,t))}{\\partial t} = D\\nabla^2 \\Big(16 F \\big((\\bar{c} + c'(x,t))^3-(\\bar{c} + c'(x,t))\\big)-\\gamma\\nabla^2  (\\bar{c} + c'(x,t)) \\Big) $$\n",
      "\n",
      "\n",
      "$$ \\frac{\\partial (\\bar{c} + c'(x,t))}{\\partial t} = D\\Big(16 F \\big(\\nabla^2(\\bar{c}^3 + 3 \\bar{c}^2c'(x,t)+3\\bar{c} c'(x,t)^2 + c'(x,t)^3)-\\nabla^2(\\bar{c} + c'(x,t))\\big)-\\gamma\\nabla^4  (\\bar{c} + c'(x,t)) \\Big) $$\n",
      "\n",
      "$$ \\frac{\\partial (\\bar{c} + c'(x,t))}{\\partial t} = D\\Big(16 F \\big(\\nabla^2\\bar{c}^3 + 3 c'(x,t)\\nabla^2\\bar{c}^2  + 3\\nabla\\bar{c}^2\\nabla c'(x,t) + 3\\bar{c}^2\\nabla^2c'(x,t)    +3\\bar{c}\\nabla^2c'(x,t)^2   +  3\\nabla \\bar{c}\\nabla c'(x,t)^2 +3c'(x,t)^2\\nabla^2\\bar{c}     + \\nabla^2 c'(x,t)^3)-\\nabla^2\\bar{c} - \\nabla^2 c'(x,t))\\big)-\\gamma(\\nabla^4\\bar{c} +\\nabla^4c'(x,t)) \\Big) $$\n",
      "\n",
      "Because $\\bar{c}$ is a constant, the equation reduces to the following form.\n",
      "\n",
      "$$ \\frac{\\partial c'(x,t)}{\\partial t} = D\\Big(16 F [3\\bar{c}^2\\nabla^2c'(x,t) +3\\bar{c}\\nabla^2c'(x,t)^2  + \\nabla^2 c'(x,t)^3- \\nabla^2 c'(x,t)]-\\gamma\\nabla^4c'(x,t) \\Big) $$\n",
      "\n",
      "This can be rearranged to looks like the nonhomogenous diffusion equation\n",
      "\n",
      "$$ \\frac{\\partial c'(x,t)}{\\partial t}  - \\tilde{D} \\nabla^2c'(x,t) = f(x,t) $$\n",
      "\n",
      "where\n",
      "\n",
      "$$ \\tilde{D} = 48 F D\\bar{c}^2 $$\n",
      "\n",
      "and\n",
      "\n",
      "$$ f(x,t) = D\\Big(16 F [3\\bar{c}\\nabla^2c'(x,t)^2 + \\nabla^2 c'(x,t)^3)- \\nabla^2 c'(x,t)]-\\gamma\\nabla^4c'(x,t) \\Big) $$\n",
      "\n",
      "\n",
      "\n",
      "The solution to the equation above can be found in terms of a green's function. The green's equation for the diffusion equation is free space can be found below.\n",
      "\n",
      "$$ G(x,s,t) = \\frac{1}{\\sqrt{4 \\pi k t}} exp{\\Big(\\frac{(x-s)^2}{4kt}\\Big)} $$\n",
      "\n",
      "The general solution for the concentration $c(x,t)$ has the following form.\n",
      "\n",
      "$$ c'(x,t) = \\int_{-\\infty}^\\infty \\ \\frac{1}{\\sqrt{4 \\pi k t}} exp{ \\Big(\\frac{(x-s)^2}{4kt} \\Big)} c'(s,0)ds + \\int_{-\\infty}^\\infty \\int_0^t \\frac{1}{\\sqrt{4 \\pi k (t-\\tau)}} exp{\\Big(\\frac{(x-s)^2}{4k(t-\\tau)}\\Big)} f(s,\\tau) d\\tau dx $$\n",
      "\n",
      "$$ c'(x,t) = \\int_{-\\infty}^\\infty \\ G(x,s,t) c'(s,0)ds + \\int_{-\\infty}^\\infty \\int_0^t G(x,s,(t-\\tau) f(s,\\tau) d\\tau dx $$\n",
      "\n",
      "$$ c'(x,t) = \\int_{-\\infty}^\\infty \\ G(x,s,t) c'(s,0)ds + \\int_{-\\infty}^\\infty \\int_0^t G(x,s,(t-\\tau) D\\Big(16 F [3\\bar{c}\\nabla^2c'(s,\\tau)^2 + \\nabla^2 c'(s,\\tau)^3)- \\nabla^2 c'(s,\\tau)]-\\gamma\\nabla^4c'(s,\\tau) \\Big) d\\tau dx $$\n",
      "\n",
      "\n",
      "The first term on the RHS of the equation is the homogenous solution to the equation and the second term is the particular solution. If we substitue our forcing function back into the equation above and define the local concentration perturbation in terms of the localization tensor.\n",
      "\n"
     ]
    },
    {
     "cell_type": "markdown",
     "metadata": {},
     "source": [
      "## Perviously Formulated MKS\n",
      "\n",
      "$$ c_{s\\tau}^h = \\sum_{t=1}^T \\sum_{h=1}^H \\sum_{r=1}^S A_{rt}^h C_{(s+r)(\\tau-t)}^h $$\n",
      "\n"
     ]
    },
    {
     "cell_type": "code",
     "collapsed": false,
     "input": [],
     "language": "python",
     "metadata": {},
     "outputs": []
    }
   ],
   "metadata": {}
  }
 ]
}