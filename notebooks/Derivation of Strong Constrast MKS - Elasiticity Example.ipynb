{
 "metadata": {
  "name": ""
 },
 "nbformat": 3,
 "nbformat_minor": 0,
 "worksheets": [
  {
   "cells": [
    {
     "cell_type": "markdown",
     "metadata": {},
     "source": [
      "#Derivation of Strong Contrast MKS with Elasticity Example\n",
      "\n",
      "The goal of this notebook is to derivate the strong contrast MKS equation for elasticity."
     ]
    },
    {
     "cell_type": "markdown",
     "metadata": {},
     "source": [
      "### Definitions\n",
      "\n",
      "Let $C(x)$ be the local stiffness tensor for a 2 phase material with stiffness tensors $C_A$ and $C_B$. The stiffness tensor at location $x$ can be represented as a perturbation from a reference stiffness tensor.\n",
      "\n",
      "$$C(x) = C^R + C'(x)$$\n",
      "\n",
      "Let $p_{ij}(x)$ be the polarization field defined below.\n",
      "\n",
      "$$p_{ij}(x) = [C(x) - C^R]_{ijkl} \\varepsilon_{kl}(x) = C'_{ijkl}(x) \\varepsilon_{kl}(x)$$\n",
      "\n",
      "therefore\n",
      "\n",
      "$$\\sigma(x) = C(x)\\varepsilon(x) = C^R \\varepsilon(x) + p(x)$$"
     ]
    },
    {
     "cell_type": "markdown",
     "metadata": {},
     "source": [
      "### Equilibrium Condition\n",
      "\n",
      "The equilibrium condition is defined below.\n",
      "\n",
      "$$\\sigma_{ij,j}(x) = C^R_{ijkl} \\varepsilon_{kl,j}(x) + p_{ij,j}(x) = 0$$\n",
      "\n",
      "where\n",
      "\n",
      "$$p_{ij,j}(x) = C'_{ijkl,j}(x)\\varepsilon(x)_{kl} + C'_{ijkl}(x)\\varepsilon_{kl,j}(x) -C^R \\varepsilon_{kl,j}(x)$$"
     ]
    },
    {
     "cell_type": "markdown",
     "metadata": {},
     "source": [
      "###Strain, Displacement, and Green's Functions\n",
      "\n",
      "By using the relationship between strain and displacement, the equilibrium equation can be rewritten as follows.\n",
      "\n",
      "$$ \\varepsilon_{kl} = \\frac{(u_{k,l} + u_{l,k})}{2} $$\n",
      "\n",
      "$$\\sigma_{ij,j} = C^R_{ijkl} u_{k,lj}(x) + p_{ij,j} = 0$$\n",
      "\n",
      "The equilibrium equation can be solved using green's functions.\n",
      "\n",
      "$$C^R_{ijkl} G_{km,lj}(r) + \\delta_{im}\\delta(x-r) = 0$$\n",
      "\n",
      "\n",
      "$$u_k(x) = \\int_V  G_{ik}(r) p_{ij,j}(x - r)dr = \\int_V G_{ik}(r) \\big [C'_{ijkl}(x - r)\\varepsilon_{kl}(x - r) \\big ]_{,j}dr$$\n",
      "\n",
      "Note that the green's function $G(r)$ depends on the reference medium $C^R$"
     ]
    },
    {
     "cell_type": "markdown",
     "metadata": {},
     "source": [
      "### Integration by Parts\n",
      "\n",
      "We are going to force the boundary condition that $u(\\infty) = 0$, by replacing the RHS of the equation with the displacement minus the value of the displacement at infinity $u_\\infty$. \n",
      "\n",
      "$$u_k(x) =u_\\infty + \\int_V G_{ik}(r) p_{ij,j}(x - r)dr$$\n",
      "\n",
      "The equation above can be recast with derivatives on the green's function by integrating by parts.\n",
      "\n",
      "$$u_k(x) =u_\\infty - \\int_V G_{ik,j}(r) p_{ij}(x - r)dr$$"
     ]
    },
    {
     "cell_type": "markdown",
     "metadata": {},
     "source": [
      "###Principal Value Singularity\n",
      "\n",
      "In the equation above, the surface term tending to zero is a principal value integral because of the singularity in the green's function at $r = 0$. As a result, the integrand is not differentiable. Torquato shows that by excluding a sphere at the origin, using integration by parts and the divergence theorem we can arrive at the following equation [1].\n",
      "\n",
      "Let\n",
      "\n",
      "$$\\Phi_{ikjl}(r) = - G_{[ik,jl]}(r) $$\n",
      "\n",
      "$$\\varepsilon_{kl}(x) = \\varepsilon_{kl}^{\\infty} + \\int_V \\delta(r) \\Phi_{ikjl}(r) p_{ij}(x -r)dr + \\int_V (1 - \\delta(r)) \\Phi_{ikjl}(r)p_{ij}(x -r)dr $$\n",
      "\n",
      "$$\\varepsilon_{kl}(x) = \\varepsilon_{kl}^{\\infty} - E_{ikjl} p_{ij}(x) + \\int_V \\Phi_{ikjl}(r) p_{ij}(x -r)dr$$\n",
      "\n",
      "\n",
      "where \n",
      "\n",
      "$$E_{ikjl} = \\lim_{r \\rightarrow 0} \\int_S G_{ik,j}(r) n_l dS $$\n",
      "\n",
      "is the contribution from the singularity. Notice that $E_{ikjl}$ is not a function of $p_{ij}(x)$. The assumption is made that for an infinitesimal sphere the value of $p_{ij}(x)$ is a constant and can be pulled out of the integral."
     ]
    },
    {
     "cell_type": "markdown",
     "metadata": {},
     "source": [
      "### Cavity Strain Field\n",
      "\n",
      "Torquato introduces a \"cavity\" strain field $f(x)$ that is anologous to the Lorentz strain field proposed by Brown.\n",
      "\n",
      "$$f_{ij}(x) = \\varepsilon_{ij}(x) + E_{ijmn}p_{mn}(x) = (I_{ijkl} + E_{ijmn}[C(x)-C^r]_{mnkl})\\varepsilon_{kl}(x)$$\n",
      "\n",
      "The strain field is the usual strain field plus the strain from an infinitesimal sphere about point $x$.\n",
      "\n",
      "The cavity strain field can be related to the polarization field using the tensor $L(x)$, \n",
      "\n",
      "$$p_{ij}(x) = L_{ijkl}(x)f_{kl}(x)$$\n",
      "\n",
      "where $L(x)$ is defined as.\n",
      "\n",
      "$$L_{ijkl}(x) = C'_{ijmn}(x)\\big [I+EC'(x) \\big ]^{-1}_{mnkl}$$\n",
      "\n"
     ]
    },
    {
     "cell_type": "markdown",
     "metadata": {},
     "source": [
      "### Cavity Strain Field and Local Strain\n",
      "\n",
      "The previous strain equation can be rearraged and the cavity strain field can be substituted in.\n",
      "\n",
      "$$\\varepsilon(x)+ E p(x) = \\varepsilon^{\\infty} + \\int_V \\Phi(r)p(x -r)dr$$\n",
      "\n",
      "$$f(x) = \\varepsilon^{\\infty} + \\int_V \\Phi(r)p(x -r)dr$$\n",
      "\n",
      "Applying the tensor $L$ from the left to both sides of the equation, we get the polarization field in terms of itself.\n",
      "\n",
      "$$p(x) = L(x)\\varepsilon^{\\infty} + L(x) \\int_V \\Phi(r)p(x -r)dr$$"
     ]
    },
    {
     "cell_type": "markdown",
     "metadata": {},
     "source": [
      "###Torquato's Expansion\n",
      "\n",
      "Following the same idea as Kroner a series can be created by substituing in the definiation of the polarization back on itself on the right hand side.\n",
      "\n",
      "$$p(x) = L(x)\\varepsilon^{\\infty} + L(x)\\int_V \\Phi(r)p(x -r)dr$$\n",
      "\n",
      "\\begin{eqnarray}\n",
      "p(x) = L(x)\\Big [I + \\int_V \\Phi(r) L(x-r)dr&& + \\int_V \\int_V \\Phi(r) L(x-r) \\Phi(r')L(x-r')dr'dr \\\\\n",
      "&&+ \\int_V \\int_V \\int_V \\Phi(r) L(x-r) \\Phi(r') L(x-r')\\Phi(r'')L(x-r'')dr''dr'dr...\\Big] \\varepsilon^{\\infty} \n",
      "\\end{eqnarray}\n",
      "\n",
      "The series will converge as long as \n",
      "\n",
      "$$\\Phi(r) L(x-r) << 1$$\n",
      "\n",
      "or\n",
      "\n",
      "$$ \\partial_i^2 G(r) C'(x) << C^R \\big [I+EC'(x) \\big ]$$\n"
     ]
    },
    {
     "cell_type": "markdown",
     "metadata": {},
     "source": [
      "###Strong Contrast MKS\n",
      "\n",
      "Let \n",
      "\n",
      "$$ C'(x-r) = C_h m_h(x-r)$$\n",
      "\n",
      "$$ L(x-r) = C'(x-r)\\big [I+EC'(x-r) \\big ]^{-1}$$ \n",
      "\n",
      "$$ L(x-r) =  C_h m_h(x-r)\\big [I+EC_h m_h(x-r) \\big ]^{-1} = L_h m'_h(x-r)$$\n",
      "\n",
      "\n",
      "where the summation over h discribes all of the local states of the tensor $L(x)$. $m'_h(x)$ is the microstructure-like function.\n",
      "\n",
      "Also let\n",
      "\n",
      "$$\\alpha_h(r) =\\Phi(r)L_h $$ \n",
      "$$\\alpha_{hh'}(r,r') = \\Phi(r')\\Phi(r')L_h L_{h'} = $$\n",
      "$$ etc... $$\n",
      "\n",
      "where again h is the local state. \n",
      "\n",
      "Plugging this definitations recasts the series exapanion in the following form."
     ]
    },
    {
     "cell_type": "markdown",
     "metadata": {},
     "source": [
      "$$p(x) =L_hm'_h(x)\\Big [1+\\int_V \\alpha_h(r) m'_h(x-r) dr +\\int_V \\int_V \\alpha_{hh'}(r,r') m'_h(x-r) m'_{h'}(x-r') dr'dr+ \\int_V \\int_V \\int_V \\alpha_{hh'h''}(r,r',r'')m'_h(x-r) m'_{h'}(x-r') m'_{h''}(x-r'')dr''dr'dr + ...\\Big]\\varepsilon^{\\infty}$$\n",
      "\n",
      "In order to compute the strain, \n",
      "\n",
      "\n",
      "The discrete version of this equation is the MKS."
     ]
    },
    {
     "cell_type": "markdown",
     "metadata": {},
     "source": [
      "$$p[x] =L_h m'_h[x] \\Big [ 1 + \\sum_{r=1}^S \\alpha_h[r] m'_h[x-r] +\\sum_{r=1}^S \\sum_{r'=1}^S \\alpha_{hh'}[r,r'] m'_h[x-r] m'_{h'}[x-r'] + \\sum_{r=1}^S \\sum_{r'=1}^S \\sum_{r''=1}^S \\alpha_{hh'h''}[r,r',r'']m'_h(x-r) m'_{h'}[x-r'] m'_{h''}[x-r'']+ ...\\Big] \\varepsilon^{\\infty} $$"
     ]
    },
    {
     "cell_type": "markdown",
     "metadata": {},
     "source": [
      "###Polarization Field to Strain Field\n",
      "\n",
      "Using the relationship between the polarization field and the strain field\n",
      "\n",
      "$$\\varepsilon(x) =[C'(x)]^{-1} p(x)$$\n",
      "\n",
      "the expansion can be cast in terms of strain.\n",
      "\n",
      "\\begin{eqnarray}\n",
      "\\varepsilon(x) = [C'(x)]^{-1}L(x)\\Big [I + \\int_V \\Phi(r) L(x-r)dr&& + \\int_V \\int_V \\Phi(r) L(x-r) \\Phi(r')L(x-r')dr'dr \\\\\n",
      "&&+ \\int_V \\int_V \\int_V \\Phi(r) L(x-r) \\Phi(r') L(x-r')\\Phi(r'')L(x-r'')dr''dr'dr...\\Big] \\varepsilon^{\\infty}\n",
      "\\end{eqnarray}"
     ]
    },
    {
     "cell_type": "markdown",
     "metadata": {},
     "source": [
      "##References\n",
      "\n",
      "[1] Torquato, S., 1997. *Effective stiffness tensor of composite media. I. Exact series expansions.* J. Mech. Phys. Solids 45, 1421\u20131448.\n",
      "\n",
      "[2] Brent L.Adams, Surya Kalidindi, David T. Fullwood. *Microstructure Sensitive Design for Performance Optimization.*\n",
      "\n",
      "[3] David T. Fullwood, Brent L.Adams, Surya Kalidindi. *A strong contrast homogenization formulation for multi-phase anisotropic materials.*  "
     ]
    }
   ],
   "metadata": {}
  }
 ]
}