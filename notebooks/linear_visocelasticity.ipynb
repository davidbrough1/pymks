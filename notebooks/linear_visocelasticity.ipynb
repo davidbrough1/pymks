{
 "metadata": {
  "name": ""
 },
 "nbformat": 3,
 "nbformat_minor": 0,
 "worksheets": [
  {
   "cells": [
    {
     "cell_type": "markdown",
     "metadata": {},
     "source": [
      "#Linear Viscoelasticity\n",
      "\n",
      "###Equations\n",
      "$$ \\epsilon(t) = \\frac{\\sigma(t)}{E_{creep}} + \\int_0^t K(t-t') \\dot \\sigma(t')dt'$$\n"
     ]
    },
    {
     "cell_type": "markdown",
     "metadata": {},
     "source": [
      "$$ \\sigma(t) = E_{relax} \\epsilon(t) + \\int_0^t F(t-t') \\dot \\epsilon(t') dt'$$\n"
     ]
    },
    {
     "cell_type": "markdown",
     "metadata": {},
     "source": [
      "###Substitution of $\\sigma(t)$\n",
      "\n",
      "Take the deriviate of $\\sigma(t)$ with respect to time.\n",
      "$$ \\dot \\sigma(t) = E_{relax} \\dot \\epsilon(t) + \\int_0^t \\dot F(t-t') \\dot \\epsilon(t') +F(t-t') \\ddot \\epsilon(t') dt'$$"
     ]
    },
    {
     "cell_type": "markdown",
     "metadata": {},
     "source": [
      "Substitue $\\sigma(t)$ and $\\dot \\sigma(t)$ back into the equation for $\\epsilon(t)$.\n",
      "\n",
      "$$ \\epsilon(t) = \\frac{E_{relax} \\epsilon(t) + \\int_0^t F(t-t') \\dot \\epsilon(t) dt'}{E_{creep}} + \\int_0^t K(t-t')\\Bigg[ E_{relax} \\dot \\epsilon(t) + \\int_0^t \\dot F(t-t'') \\dot \\epsilon(t) +F(t-t'') \\ddot \\epsilon(t) dt''\\Bigg]dt'$$\n",
      "\n"
     ]
    },
    {
     "cell_type": "markdown",
     "metadata": {},
     "source": [
      "$$ \\epsilon(t) = E_{creep}^{-1} E_{relax} \\epsilon(t) + E_{creep}^{-1} \\int_0^t F(t-t') \\dot \\epsilon(t') dt' + \\int_0^t K(t-t') E_{relax} \\dot \\epsilon(t')dt' +\\int_0^t \\int_0^t K(t-t')  \\dot F(t'-t'') \\dot \\epsilon(t')dt''dt' + \\int_0^t \\int_0^t K(t-t')  F(t'-t'') \\ddot \\epsilon(t') dt''dt'$$"
     ]
    },
    {
     "cell_type": "markdown",
     "metadata": {},
     "source": [
      "###Integration by Parts\n",
      "\n",
      "Use integration by parts to move the time derivative from $\\epsilon(t)$ to the kernels.\n",
      "\n",
      "\\begin{eqnarray} \\epsilon(t) = &&E_{creep}^{-1} E_{relax} \\epsilon(t) + E_{creep}^{-1} \\Bigg[ F(0)\\epsilon(t) - F(t)\\epsilon(0) - \\int_0^t \\dot F(t-t') \\epsilon(t') dt' \\Bigg] \n",
      "+ \\Bigg [K(0)E_{relax} \\epsilon(t) - K(t) E_{relax} \\epsilon(0)-\\int_0^t \\dot K(t-t') E_{relax} \\epsilon(t')dt' \\Bigg] + \\\\&&\n",
      "\\int_0^t \\Bigg[ K(0)  \\dot F(t - t'') \\epsilon(t) - K(t)  \\dot F(-t'') \\epsilon(0) - \\int_0^t  \\Big [\\dot K(t-t')  \\dot F(t'-t'') \\dot + K(t-t')  \\ddot F(t'-t'') \\Big] \\epsilon(t')dt' \\Bigg] dt'' + \\\\&&\n",
      "\\int_0^t \\Bigg[K(0)  F(t-t'') \\dot \\epsilon(t) - K(t)  F(-t'') \\dot \\epsilon(0) - \n",
      "\\Big [ \\dot K(0)  F(t-t'') +  K(0) \\dot F(t-t'')  \\Big ] \\dot \\epsilon(t) + \\Big [ \\dot K(t)  F(-t'') +  K(t) \\dot F(-t'')  \\Big ] \\dot \\epsilon(0) +\\\\&& \\int_0^t\\Big [ \\ddot K(t-t')  F(t'-t'') + \\dot K(t-t') \\dot F(t'-t'')+ \\dot K(t-t') \\dot F(t'-t'')  + K(t-t') \\ddot F(t'-t'')\\Big ]\\epsilon(t') dt' \\Bigg ]dt'' \\end{eqnarray}\n",
      "\n",
      "Collect terms"
     ]
    },
    {
     "cell_type": "markdown",
     "metadata": {},
     "source": [
      "\\begin{eqnarray} \\epsilon(t) = && \\Bigg[E_{creep}^{-1} E_{relax} + E_{creep}^{-1}  F(0) + K(0)E_{relax} + K(0) \\int_0^t \\dot F(t - t'')dt''- \n",
      "\\int_0^t \\Big [ \\dot K(0)  F(t-t'') +  K(0) \\dot F(t-t'')  \\Big ]dt'' \\epsilon(t) \\Bigg] \\epsilon(t)- \\\\&&\n",
      "\\Bigg[ E_{creep}^{-1} F(t) + K(t) E_{relax} + K(t) \\int_0^t \\dot F(-t'')dt'' - \\int_0^t \\Big [ \\dot K(t)  F(-t'') +  K(t) \\dot F(-t'')  \\Big ] dt'' \\Bigg]\\epsilon(0) + \\int_0^t K(0)  F(t-t'') \\dot \\epsilon(t)dt'' - \\int_0^t K(t)  F(-t'')dt'' \\dot \\epsilon(0) - \\\\&&  \n",
      "E_{creep}^{-1}  \\int_0^t \\dot F(t-t') \\epsilon(t') dt' -\\int_0^t \\dot K(t-t') E_{relax} \\epsilon(t')dt'  \n",
      " - \\int_0^t\\int_0^t  \\Big [\\dot K(t-t')  \\dot F(t'-t'') \\dot + K(t-t')  \\ddot F(t'-t'') \\Big] \\epsilon(t')dt'dt'' +\\\\&&\n",
      " + \\int_0^t \\int_0^t\\Big [ \\ddot K(t-t')  F(t'-t'') + \\dot K(t-t') \\dot F(t'-t'')+ \\dot K(t-t') \\dot F(t'-t'')  + K(t-t') \\ddot F(t'-t'')\\Big ]\\epsilon(t') dt'dt'' \\end{eqnarray}"
     ]
    },
    {
     "cell_type": "code",
     "collapsed": false,
     "input": [],
     "language": "python",
     "metadata": {},
     "outputs": []
    }
   ],
   "metadata": {}
  }
 ]
}