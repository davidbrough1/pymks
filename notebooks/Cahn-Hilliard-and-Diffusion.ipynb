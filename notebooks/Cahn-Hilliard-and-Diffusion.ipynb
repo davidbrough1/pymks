{
 "metadata": {
  "name": "",
  "signature": "sha256:deb0dd5f98d7daef9db72d7a11f7913229d04e26e3a16576eb38a2cb2eee3415"
 },
 "nbformat": 3,
 "nbformat_minor": 0,
 "worksheets": [
  {
   "cells": [
    {
     "cell_type": "markdown",
     "metadata": {},
     "source": [
      "##The Cahn-Hilliard Equation as an Inhomogeneous Diffusion Equation\n",
      "\n",
      "####Perturbation from Average Concentration \n",
      "\n",
      "Let's assume that we are looking at a concentration field that is represented by a function $\\phi (x,t)$ which provides the local concentration field at location $x$ and time $t$. This concentration can be set equal to a linear combination of an average concentration $\\bar{\\phi}$ and a local perturbation from that average concentration $\\phi'(x,t)$ at location $x$ and time $t$ as shown below.\n",
      "\n",
      "$$ \\phi(x,t) = \\bar{\\phi} + \\phi'(x,t) $$"
     ]
    },
    {
     "cell_type": "markdown",
     "metadata": {},
     "source": [
      "####Cahn-Hilliard Equation \n",
      "\n",
      "The Cahn-Hilliard equation has the following form. \n",
      "\n",
      "$$ \\frac{\\partial \\phi(x,t)}{\\partial t} = \\nabla \\cdot D \\nabla \\Big(\\frac{\\partial f(\\phi(x,t))}{\\partial \\phi} + \\nabla^2 \\epsilon^2 \\phi(x,t) \\Big) $$\n",
      "\n",
      "$D$ is the diffusion coefficient, $f(\\phi(x,t))$ is the free energy function, and $\\epsilon$ is the  length of interface region. $f(\\phi(x, t))$ is a double well potential and can be represented as a fourth-order polynomial.\n",
      "\n",
      "$$ f(\\phi(x,t)) = \\frac{a^2}{2}\\phi(x,t)^2(1 - \\phi(x,t)^2) $$\n",
      "\n",
      "$a$ is a free parameter used to fit the magnitude of the energy barrier. By substituting the fourth-order polynomial in for the free energy function and assuming that $D$, $\\epsilon^2$ and $a$ are constants, the Cahn-Hilliard equation takes the following form.\n",
      "\n",
      "$$ \\frac{\\partial \\phi(x,t)}{\\partial t} = D\\nabla^2 \\Big(a^2 \\big[\\phi(x,t)(1 - 2 \\phi(x, t)^2 \\big] + \\epsilon^2 \\nabla^2 \\phi(x,t) \\Big) $$"
     ]
    },
    {
     "cell_type": "markdown",
     "metadata": {},
     "source": [
      "####Cahn-Hilliard Equation as an Inhomogeneous Diffusion Equation\n",
      "\n",
      "Let's substitute the local perturbation definition of the concentration into the Cahn-Hilliard equation, and remove all terms that equal zero.\n",
      "\n",
      "$$ \\frac{\\partial (\\bar{\\phi} + \\phi')}{\\partial t} = D\\nabla^2 \\Big(a^2 \\big[(\\bar{\\phi} + \\phi') (1 - (\\bar{\\phi} + \\phi')^2\\big] + \\epsilon^2\\nabla^2  (\\bar{\\phi} + \\phi') \\Big) $$"
     ]
    },
    {
     "cell_type": "markdown",
     "metadata": {},
     "source": [
      "$$ \\frac{\\partial  \\phi'}{\\partial t} = D\\nabla^2 \\Big(a^2 \\big[ \\phi' - 3 (\\phi' \\bar{\\phi}^2 + \\phi'^2 \\bar{\\phi}) -\\phi'^3 \\big] + \\epsilon^2\\nabla^2  \\phi' \\Big) $$"
     ]
    },
    {
     "cell_type": "markdown",
     "metadata": {},
     "source": [
      "$$ \\frac{\\partial  \\phi'}{\\partial t} - D a^2 \\nabla^2 \\phi' = D \\nabla^2 \\Big ( \\epsilon^2\\nabla^2  \\phi' -  a^2 \\big[ 3\\phi' \\bar{\\phi}^2 + 3\\phi'^2 \\bar{\\phi} -\\phi'^3\\big ] \\Big ) $$"
     ]
    },
    {
     "cell_type": "markdown",
     "metadata": {},
     "source": [
      "Now let the right hand side of the equation above represent an inhomogenous term $f$ to a diffusion equation, \n",
      "\n",
      "$$ f(x, t) = D \\nabla^2 \\Big ( \\epsilon^2\\nabla^2  \\phi'(x, t) -  a^2 \\big [3\\phi'(x, t) \\bar{\\phi}^2 + 3\\phi'(x, t)^2 \\bar{\\phi} -\\phi'(x, t)^3\\big ] \\Big )$$\n",
      "\n",
      "Using these definitions, the Cahn-Hilliard equation can be cast in terms of a inhomogenous diffusion equation.\n",
      "\n",
      "$$ \\frac{\\partial  \\phi'}{\\partial t} - D a^2 \\nabla^2 \\phi' = f$$"
     ]
    },
    {
     "cell_type": "markdown",
     "metadata": {},
     "source": [
      "####Green's Functions\n",
      "\n",
      "A green's function is a powerful method to solve linear inhomogenous differential equation. A green's function is mathematically define as function that when operated on with a linear operator, equals a delta function. Below is an example using the diffusion operator.\n",
      "\n",
      "$$ \\frac{\\partial G(x-x,t-t')}{\\partial t} - \\tilde D a^2 \\nabla_x^2 G(x-x',t-t')  = \\delta(x-x') \\delta(t-t') $$"
     ]
    },
    {
     "cell_type": "markdown",
     "metadata": {},
     "source": [
      "The convolution of a green's function with an inhomogenous term gives the solution to the differential equation. This can be proven by first showing that a convolution with the left hand side of the equation above and an inhomogenous term $f(x', t')$ recovers the inhomogenous term.\n",
      "\n",
      "$$ \\int_0^t \\int_V \\Big [\\frac{\\partial G(x - x',t - t')}{\\partial t} - D a^2 \\nabla_x^2 G(x - x', t - t') \\Big ]f(x',t') dx' dt' = \\int_0^t \\int_V \\delta(x-x')\\delta(t - t') f(x', t')dx' dt' = f(x, t)$$\n",
      "\n",
      "By substituing the convolution expression for the inhomogenous term we get the following equation.\n",
      "\n",
      "$$ \\frac{\\partial \\phi'}{\\partial t} - D a^2 \\nabla_x^2 \\phi' = \\int_0^t \\int_V \\Big [\\frac{\\partial G(x - x',t - t')}{\\partial t} - D a^2 \\nabla_x^2 G(x - x', t - t') \\Big ]f(x',t') dx' dt' $$\n",
      "\n",
      "Because the diffusion operator differientates with respect to $t$ and $x$ and the integral is with respect to $t'$ and $x'$, the operator can be pulled out of the integral.\n",
      "\n",
      "$$ \\Bigg[ \\frac{\\partial }{\\partial t} - D a^2 \\nabla_x^2 \\Bigg] \\phi' = \\Bigg[ \\frac{\\partial }{\\partial t} - D a^2 \\nabla_x^2 \\Bigg]  \\int_0^t \\int_V G(x - x',t - t') f(x',t') dx' dt' $$\n",
      "\n",
      "By removing the diffusion operator, we get an equation that relates the concentration $\\phi'$ to a convolution with the green's function and an inhomogenous term.\n",
      "\n",
      "$$ \\phi' =  \\int_0^t \\int_V G(x - x',t - t') f(x',t') dx' dt' $$\n",
      "\n",
      "If the initial conditions are inhomogenous, an additional term can be added to provide that information.\n",
      "\n",
      "$$ \\phi' =  \\int_V G(x - x',t) \\phi'(x', 0) dx' + \\int_0^t \\int_V G(x - x',t - t') f(x',t') dx' dt' $$"
     ]
    },
    {
     "cell_type": "markdown",
     "metadata": {},
     "source": [
      "####Integeration by Parts\n",
      "\n",
      "The solution to the equation above can be found in terms of a green's function. The general solution for the concentration $\\phi(x,t)$ has the following form.\n",
      "\n",
      "Let\n",
      "\n",
      "$$ x - x' = r $$\n",
      "$$ t - t' = \\tau $$\n",
      "\n",
      "$$ \\phi'(x, t) =  -\\int_V G(r,t) \\phi'(x - r, 0) dr + \\int_0^t \\int_V G(r,\\tau) f(x-r,t-\\tau) dr d\\tau $$\n",
      "\n",
      "\\begin{eqnarray} \\phi'(x, t) = && -\\int_V G(r,t) \\phi'(x-r, 0) dr +  \\\\&& \n",
      "\\int_0^t \\int_V G(r,\\tau) D \\nabla_x^2 \\Big ( \\epsilon^2\\nabla_x^2  \\phi'(x-r, t-\\tau) -  a^2 \\big [3\\phi'(x-r, t-\\tau) \\bar{\\phi}^2 + 3\\phi'(x-r, t-\\tau)^2 \\bar{\\phi} -\\phi'(x-r, t-\\tau)^3\\big ] \\Big ) dr d\\tau \\end{eqnarray}\n",
      "\n",
      "The $\\nabla^2$ operator can be moved from the terms containing $\\phi$ to the green's function by using integration by parts and assuming periodic boundary conditions.\n",
      "\n",
      "\\begin{eqnarray} \\phi'(x, t) = && -\\int_V G(r,t) \\phi'(x-r, 0) dr + \\int_0^t \\int_V D \\Big[\\nabla_x^4 G(r,\\tau)   \\epsilon^2 - 3 a^2 \\bar{\\phi}^2 \\nabla_x^2 G(r, \\tau) \\Big ] \\phi'(x-r, t-\\tau) dr d\\tau - \\\\&& \\int_0^t \\int_V 3 D \\bar{\\phi} a^2 \\nabla_x^2 G(r,\\tau)  \\phi'(x-r, t-\\tau)^2 dr d\\tau -  \\int_0^t \\int_V D a^2 \\nabla_x^2 G(r, \\tau) \\phi'(x - r, t - \\tau)^3 dr d\\tau \\end{eqnarray}"
     ]
    },
    {
     "cell_type": "markdown",
     "metadata": {},
     "source": [
      "####Kroner's Expansion\n",
      "\n",
      "By take the definition of $\\phi'$ and substituing it back into the right side for it self, we can create a series expansion. Let's first collect terms by powers of $\\phi'$."
     ]
    },
    {
     "cell_type": "markdown",
     "metadata": {},
     "source": [
      "\\begin{eqnarray} \\phi'(x, t) = \n",
      "&& -\\int_V G(r,t) \\phi'(x-r, 0) dr -\\int_0^t \\int_V \\int_V D \\Big[\\nabla_x^4 G(r,\\tau) \\epsilon^2 - 3 a^2 \\bar{\\phi}^2 \\nabla_x^2 G(r, \\tau) \\Big ]  G(r',t) \\phi'(x-r', 0) dr' dr d\\tau + ... \\end{eqnarray}"
     ]
    },
    {
     "cell_type": "markdown",
     "metadata": {},
     "source": [
      "\\begin{eqnarray} \\phi'(x, t) = && \\int_V \n",
      "G(x - x',t) \n",
      "\\phi(x', 0) dx'\n",
      "+ \\int_0^t \\int_V  \\int_V  \n",
      "D \\Big[\\nabla_x^4 G(x - x',t - t')   \\epsilon^2 - 3 a^2 \\bar{\\phi}^2 \\nabla_x^2 G(x - x',t - t') \\Big ] \n",
      "G(x' - x'',t) \n",
      "\\phi(x'', 0) dx'' dx' dt' - \\\\&&\n",
      "\\int_0^t \\int_V  \\int_V \\int_V \n",
      "3 D \\bar{\\phi} a^2 \\nabla_x^2 G(x - x',t - t')   \n",
      "G(x' - x'',t) \n",
      "G(x' - x''',t)\n",
      "\\phi(x'', 0)\n",
      "\\phi(x''', 0)dx''' dx''  dx' dt' - \\\\&&\n",
      "\\int_0^t \\int_V  \\int_V \\int_V \\int_V \n",
      "D  a^2 \\nabla_x^2 G(x - x',t - t')  \n",
      "G(x' - x'',t) \n",
      "G(x' - x''',t) \n",
      "G(x' - x'''',t)\n",
      "\\phi(x'', 0)\n",
      "\\phi(x''', 0) \n",
      "\\phi(x'''', 0) dx'''' dx''' dx'' dx' dt' + ...\\end{eqnarray}"
     ]
    },
    {
     "cell_type": "markdown",
     "metadata": {},
     "source": [
      "####Convergence Criterion\n",
      "\n",
      "In order for this series to rapidly convert as least the following criterion must be met. \n",
      "\n",
      "$$\\int_V G(x - x',t) \\phi(x', 0) dx' < 1 $$"
     ]
    },
    {
     "cell_type": "markdown",
     "metadata": {},
     "source": [
      "####Green's Function for the 3D Diffusion Equation in Free-space\n",
      "\n",
      "$$G(x - x', t) = \\Bigg (\\frac{1}{4 \\pi \\tilde D t} \\Bigg )^{3/2} exp\\Bigg (\\frac{-(x - x')^2}{4 \\tilde D t} \\Bigg)$$\n",
      "\n",
      "The green's function will have it largest magnitude at $t=0$.\n",
      "\n",
      "$$\\lim_{t \\to 0} G(x - x', t) = \\delta(x - x')$$\n",
      "\n",
      "$$\\int_V \\delta(x - x') \\phi(x', 0) dx' = \\phi(x, 0)$$\n",
      "\n",
      "$$\\phi(x, 0) < 1 $$"
     ]
    }
   ],
   "metadata": {}
  }
 ]
}