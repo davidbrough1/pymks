{
 "metadata": {
  "name": ""
 },
 "nbformat": 3,
 "nbformat_minor": 0,
 "worksheets": [
  {
   "cells": [
    {
     "cell_type": "markdown",
     "metadata": {},
     "source": [
      "# Kalman Filter\n",
      "\n",
      "##Introduction\n",
      "\n",
      "Kalman filter is a method used to estimate the state of a system $x_t$ by learning from previous measurements $z_t$ and predictions $\\hat{x}_t$. First we assume that the current state of the system, $x_t$ is a linear combination of the state of the system at the previous time step $x_{t-1}$ and the forcing function to the system at a previous time step $u_{t-1}$ and the noise of the process at the previous step $w_{t-1}$ as shown below.\n",
      "\n",
      "$$ x_{t+1} = A x_t + B u_t+w_t $$\n",
      "\n",
      "In the expression above $A$ is an matrix that relates the state at the previous time step to the state in the current time step. $B$ is a matrix that relates the forcing function to the state.\n",
      "\n",
      "Now the state of the system may not be explectly measured (e.g. the sampled position of an object over time is not a direct measurement of the velocity) but, the state can be infered from measurements. It is assumed that a measurement $z_t$ is a linear combination of the accutal state of the system and the noise of the measurement $v_t$ as shown below.\n",
      "\n",
      "$$ z_t = H x_t + v_t $$\n",
      "\n",
      "In the equation above, $H$ is a matrix that relates the mesurement to the state of the system. Its assumed that the noise terms $w_{t-1}$ and $v_t$ are random and normally distributed, and independent of one another.\n",
      "\n",
      "$$ w_t \\sim N(0,Q) $$\n",
      "$$ v_t \\sim N(0,R) $$\n",
      "$$ P(v_t \\cap w_t) = P(v_t)P(w_t) $$\n",
      "\n",
      "##A Priori and A Posteriori State Estimates\n",
      "\n",
      "The a priori estimate $\\hat{x}^-_t$ is the estimate of the state of the system at time t given the knowlegdge of the process before t. The a posteriori estimate $\\hat{x}_t$ is the estimate of the state of the system at time t given the measurements up to and including $z_t$. \n",
      "\n",
      "$$\\hat{x}^-_t = E[x_t\\vert \\hat{x}_{t-1},\\hat{x}_{t-2},...] $$\n",
      "\n",
      "$$\\hat{x}_t = E[x_t\\vert z_{t-1},z_{t-2},...] $$\n",
      "\n",
      "Reference\n",
      "\n",
      "G. Welch, G. Bishop, *An Introduction to the Kalman Filter* http://www.cs.unc.edu/~welch/media/pdf/kalman_intro.pdf'   "
     ]
    },
    {
     "cell_type": "code",
     "collapsed": false,
     "input": [],
     "language": "python",
     "metadata": {},
     "outputs": []
    },
    {
     "cell_type": "code",
     "collapsed": false,
     "input": [],
     "language": "python",
     "metadata": {},
     "outputs": []
    }
   ],
   "metadata": {}
  }
 ]
}